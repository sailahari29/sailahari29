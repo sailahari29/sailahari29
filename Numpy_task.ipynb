{
  "cells": [
    {
      "cell_type": "markdown",
      "metadata": {
        "id": "view-in-github",
        "colab_type": "text"
      },
      "source": [
        "<a href=\"https://colab.research.google.com/github/sailahari29/sailahari29/blob/main/Numpy_task.ipynb\" target=\"_parent\"><img src=\"https://colab.research.google.com/assets/colab-badge.svg\" alt=\"Open In Colab\"/></a>"
      ]
    },
    {
      "cell_type": "markdown",
      "metadata": {
        "id": "FXfB53H1ilwN"
      },
      "source": [
        "# Numpy\n",
        "\n"
      ]
    },
    {
      "cell_type": "markdown",
      "metadata": {
        "id": "oBvCuDtsilwX"
      },
      "source": [
        "#### 1. Import the numpy package under the name `np` (★☆☆) \n",
        "(**hint**: import … as …)"
      ]
    },
    {
      "cell_type": "code",
      "execution_count": 2,
      "metadata": {
        "collapsed": true,
        "id": "LSJAALiLilwZ"
      },
      "outputs": [],
      "source": [
        "import numpy as np"
      ]
    },
    {
      "cell_type": "markdown",
      "metadata": {
        "id": "Ok8URCVBilwb"
      },
      "source": [
        "#### 2. Print the numpy version and the configuration (★☆☆) \n",
        "(**hint**: np.\\_\\_version\\_\\_, np.show\\_config)"
      ]
    },
    {
      "cell_type": "code",
      "execution_count": 3,
      "metadata": {
        "id": "kz-ffPihilwd",
        "colab": {
          "base_uri": "https://localhost:8080/"
        },
        "outputId": "3c71de43-5e26-4032-8717-7a88d01375ef"
      },
      "outputs": [
        {
          "output_type": "execute_result",
          "data": {
            "text/plain": [
              "('1.21.6', <function numpy.__config__.show>)"
            ]
          },
          "metadata": {},
          "execution_count": 3
        }
      ],
      "source": [
        "np.__version__,np.show_config"
      ]
    },
    {
      "cell_type": "markdown",
      "metadata": {
        "id": "eSLkCAD_ilwe"
      },
      "source": [
        "#### 3. Create a null vector of size 10 (★☆☆) \n",
        "(**hint**: np.zeros)"
      ]
    },
    {
      "cell_type": "code",
      "execution_count": 4,
      "metadata": {
        "id": "NV7-3-gkilwf",
        "colab": {
          "base_uri": "https://localhost:8080/"
        },
        "outputId": "7a3d5291-f1ea-4d5f-e85f-010192299849"
      },
      "outputs": [
        {
          "output_type": "execute_result",
          "data": {
            "text/plain": [
              "array([0., 0., 0., 0., 0., 0., 0., 0., 0., 0.])"
            ]
          },
          "metadata": {},
          "execution_count": 4
        }
      ],
      "source": [
        "x=np.zeros(10)\n",
        "x"
      ]
    },
    {
      "cell_type": "markdown",
      "metadata": {
        "id": "_MBrrEDzilwh"
      },
      "source": [
        "#### 4.  How to find the memory size of any array (★☆☆) \n",
        "(**hint**: size, itemsize)"
      ]
    },
    {
      "cell_type": "code",
      "execution_count": 5,
      "metadata": {
        "id": "pq9Yjj_Filwi",
        "colab": {
          "base_uri": "https://localhost:8080/"
        },
        "outputId": "b98241e2-b75c-4f85-ba4a-0096b4ff5e3b"
      },
      "outputs": [
        {
          "output_type": "stream",
          "name": "stdout",
          "text": [
            "Size of the array:  10\n",
            "Memory size of one array element in bytes:  8\n"
          ]
        }
      ],
      "source": [
        "print(\"Size of the array: \",\n",
        "      x.size)\n",
        "print(\"Memory size of one array element in bytes: \",\n",
        "      x.itemsize)"
      ]
    },
    {
      "cell_type": "markdown",
      "metadata": {
        "id": "K5NRTdGYilwj"
      },
      "source": [
        "#### 5.  How to get the documentation of the numpy add function from the command line? (★☆☆) \n",
        "(**hint**: np.info)"
      ]
    },
    {
      "cell_type": "code",
      "execution_count": 6,
      "metadata": {
        "collapsed": true,
        "id": "8at9ZaG9ilwk",
        "colab": {
          "base_uri": "https://localhost:8080/"
        },
        "outputId": "11907d80-ff25-42b3-9bdb-fe76094e903c"
      },
      "outputs": [
        {
          "output_type": "stream",
          "name": "stdout",
          "text": [
            "add(x1, x2, /, out=None, *, where=True, casting='same_kind', order='K', dtype=None, subok=True[, signature, extobj])\n",
            "\n",
            "Add arguments element-wise.\n",
            "\n",
            "Parameters\n",
            "----------\n",
            "x1, x2 : array_like\n",
            "    The arrays to be added.\n",
            "    If ``x1.shape != x2.shape``, they must be broadcastable to a common\n",
            "    shape (which becomes the shape of the output).\n",
            "out : ndarray, None, or tuple of ndarray and None, optional\n",
            "    A location into which the result is stored. If provided, it must have\n",
            "    a shape that the inputs broadcast to. If not provided or None,\n",
            "    a freshly-allocated array is returned. A tuple (possible only as a\n",
            "    keyword argument) must have length equal to the number of outputs.\n",
            "where : array_like, optional\n",
            "    This condition is broadcast over the input. At locations where the\n",
            "    condition is True, the `out` array will be set to the ufunc result.\n",
            "    Elsewhere, the `out` array will retain its original value.\n",
            "    Note that if an uninitialized `out` array is created via the default\n",
            "    ``out=None``, locations within it where the condition is False will\n",
            "    remain uninitialized.\n",
            "**kwargs\n",
            "    For other keyword-only arguments, see the\n",
            "    :ref:`ufunc docs <ufuncs.kwargs>`.\n",
            "\n",
            "Returns\n",
            "-------\n",
            "add : ndarray or scalar\n",
            "    The sum of `x1` and `x2`, element-wise.\n",
            "    This is a scalar if both `x1` and `x2` are scalars.\n",
            "\n",
            "Notes\n",
            "-----\n",
            "Equivalent to `x1` + `x2` in terms of array broadcasting.\n",
            "\n",
            "Examples\n",
            "--------\n",
            ">>> np.add(1.0, 4.0)\n",
            "5.0\n",
            ">>> x1 = np.arange(9.0).reshape((3, 3))\n",
            ">>> x2 = np.arange(3.0)\n",
            ">>> np.add(x1, x2)\n",
            "array([[  0.,   2.,   4.],\n",
            "       [  3.,   5.,   7.],\n",
            "       [  6.,   8.,  10.]])\n",
            "\n",
            "The ``+`` operator can be used as a shorthand for ``np.add`` on ndarrays.\n",
            "\n",
            ">>> x1 = np.arange(9.0).reshape((3, 3))\n",
            ">>> x2 = np.arange(3.0)\n",
            ">>> x1 + x2\n",
            "array([[ 0.,  2.,  4.],\n",
            "       [ 3.,  5.,  7.],\n",
            "       [ 6.,  8., 10.]])\n"
          ]
        }
      ],
      "source": [
        "import numpy; np.info(numpy.add)"
      ]
    },
    {
      "cell_type": "markdown",
      "metadata": {
        "id": "RYFBCx_Tilwl"
      },
      "source": [
        "#### 6.  Create a null vector of size 10 but the fifth value which is 1 (★☆☆) \n",
        "(**hint**: array\\[4\\])"
      ]
    },
    {
      "cell_type": "code",
      "execution_count": 7,
      "metadata": {
        "id": "Y5YZuwVuilwm",
        "colab": {
          "base_uri": "https://localhost:8080/"
        },
        "outputId": "42c1fa14-b06e-49b1-c5a1-1f3892371368"
      },
      "outputs": [
        {
          "output_type": "execute_result",
          "data": {
            "text/plain": [
              "array([0., 0., 0., 0., 0., 1., 0., 0., 0., 0.])"
            ]
          },
          "metadata": {},
          "execution_count": 7
        }
      ],
      "source": [
        "x=np.zeros(10)\n",
        "x[5]=1\n",
        "x"
      ]
    },
    {
      "cell_type": "markdown",
      "metadata": {
        "id": "bFD1VCLpilwm"
      },
      "source": [
        "#### 7.  Create a vector with values ranging from 10 to 49 (★☆☆) \n",
        "(**hint**: np.arange)"
      ]
    },
    {
      "cell_type": "code",
      "execution_count": 8,
      "metadata": {
        "id": "TIwGovvjilwn",
        "colab": {
          "base_uri": "https://localhost:8080/"
        },
        "outputId": "0207f7d2-6f14-429f-9c98-a05f0c0562f9"
      },
      "outputs": [
        {
          "output_type": "execute_result",
          "data": {
            "text/plain": [
              "array([10, 11, 12, 13, 14, 15, 16, 17, 18, 19, 20, 21, 22, 23, 24, 25, 26,\n",
              "       27, 28, 29, 30, 31, 32, 33, 34, 35, 36, 37, 38, 39, 40, 41, 42, 43,\n",
              "       44, 45, 46, 47, 48])"
            ]
          },
          "metadata": {},
          "execution_count": 8
        }
      ],
      "source": [
        "x=np.arange(10,49)\n",
        "x"
      ]
    },
    {
      "cell_type": "markdown",
      "metadata": {
        "id": "bXriOIqiilwo"
      },
      "source": [
        "#### 8.  Reverse a vector (first element becomes last) (★☆☆) \n",
        "(**hint**: array\\[::-1\\])"
      ]
    },
    {
      "cell_type": "code",
      "execution_count": 9,
      "metadata": {
        "id": "oDE9-nuoilwq",
        "colab": {
          "base_uri": "https://localhost:8080/"
        },
        "outputId": "4c097680-7355-49ee-f173-52d456f1de9c"
      },
      "outputs": [
        {
          "output_type": "stream",
          "name": "stdout",
          "text": [
            "Original array:\n",
            "[10 11 12 13 14 15 16 17 18 19 20 21 22 23 24 25 26 27 28 29 30 31 32 33\n",
            " 34 35 36 37 38 39 40 41 42 43 44 45 46 47 48]\n",
            "Reverse array:\n",
            "[48 47 46 45 44 43 42 41 40 39 38 37 36 35 34 33 32 31 30 29 28 27 26 25\n",
            " 24 23 22 21 20 19 18 17 16 15 14 13 12 11 10]\n"
          ]
        }
      ],
      "source": [
        "print(\"Original array:\")\n",
        "print(x)\n",
        "print(\"Reverse array:\")\n",
        "x = x[::-1]\n",
        "print(x)"
      ]
    },
    {
      "cell_type": "markdown",
      "metadata": {
        "id": "f2UsDi2-ilwq"
      },
      "source": [
        "#### 9.  Create a 3x3 matrix with values ranging from 0 to 8 (★☆☆) \n",
        "(**hint**: reshape)"
      ]
    },
    {
      "cell_type": "code",
      "execution_count": 10,
      "metadata": {
        "id": "rfeZ0T36ilwr",
        "colab": {
          "base_uri": "https://localhost:8080/"
        },
        "outputId": "25d33a59-54db-44e8-fe0b-984beed7a7aa"
      },
      "outputs": [
        {
          "output_type": "execute_result",
          "data": {
            "text/plain": [
              "array([[0, 1, 2],\n",
              "       [3, 4, 5],\n",
              "       [6, 7, 8]])"
            ]
          },
          "metadata": {},
          "execution_count": 10
        }
      ],
      "source": [
        "x=np.arange(9).reshape(3,3)\n",
        "x\n"
      ]
    },
    {
      "cell_type": "markdown",
      "metadata": {
        "id": "ZriJvdb1ilws"
      },
      "source": [
        "#### 10. Find indices of non-zero elements from \\[1,2,0,0,4,0\\] (★☆☆) \n",
        "(**hint**: np.nonzero)"
      ]
    },
    {
      "cell_type": "code",
      "execution_count": 11,
      "metadata": {
        "id": "CHwoAMpTilws",
        "colab": {
          "base_uri": "https://localhost:8080/"
        },
        "outputId": "19177ab6-8d53-4b75-f817-faf2f932dea4"
      },
      "outputs": [
        {
          "output_type": "execute_result",
          "data": {
            "text/plain": [
              "(array([0, 1, 4]),)"
            ]
          },
          "metadata": {},
          "execution_count": 11
        }
      ],
      "source": [
        "nz = np.nonzero([1,2,0,0,4,0])\n",
        "nz"
      ]
    },
    {
      "cell_type": "markdown",
      "metadata": {
        "id": "HW0J7VhVilwv"
      },
      "source": [
        "#### 11. Create a 3x3 identity matrix (★☆☆) \n",
        "(**hint**: np.eye)"
      ]
    },
    {
      "cell_type": "code",
      "execution_count": 12,
      "metadata": {
        "id": "itiISezTilww",
        "colab": {
          "base_uri": "https://localhost:8080/"
        },
        "outputId": "d8d1ed10-7e4d-4923-b062-ea93aef042fd"
      },
      "outputs": [
        {
          "output_type": "execute_result",
          "data": {
            "text/plain": [
              "array([[1., 0., 0.],\n",
              "       [0., 1., 0.],\n",
              "       [0., 0., 1.]])"
            ]
          },
          "metadata": {},
          "execution_count": 12
        }
      ],
      "source": [
        "x=np.eye(3)\n",
        "x\n"
      ]
    },
    {
      "cell_type": "markdown",
      "metadata": {
        "id": "jwyO8OJ_ilww"
      },
      "source": [
        "#### 12. Create a 3x3x3 array with random values (★☆☆) \n",
        "(**hint**: np.random.random)"
      ]
    },
    {
      "cell_type": "code",
      "execution_count": 13,
      "metadata": {
        "collapsed": true,
        "id": "AeHFCj_filwx",
        "colab": {
          "base_uri": "https://localhost:8080/"
        },
        "outputId": "c0596b58-bd32-4cb5-a76b-65b4a597610e"
      },
      "outputs": [
        {
          "output_type": "execute_result",
          "data": {
            "text/plain": [
              "array([[[0.92022294, 0.56566623, 0.96700634],\n",
              "        [0.96411029, 0.40660776, 0.52534335],\n",
              "        [0.65916301, 0.07636091, 0.76572737]],\n",
              "\n",
              "       [[0.7734836 , 0.83257901, 0.87168484],\n",
              "        [0.31643622, 0.90876113, 0.29260184],\n",
              "        [0.19769901, 0.4323546 , 0.18608221]],\n",
              "\n",
              "       [[0.9980481 , 0.20344504, 0.72882814],\n",
              "        [0.91811396, 0.87341577, 0.83924257],\n",
              "        [0.61308664, 0.01139224, 0.63424107]]])"
            ]
          },
          "metadata": {},
          "execution_count": 13
        }
      ],
      "source": [
        "x= np.random.random((3,3,3))\n",
        "x"
      ]
    },
    {
      "cell_type": "markdown",
      "metadata": {
        "id": "BgAd2Lbwilwx"
      },
      "source": [
        "#### 13. Create a 10x10 array with random values and find the minimum and maximum values (★☆☆) \n",
        "(**hint**: min, max)"
      ]
    },
    {
      "cell_type": "code",
      "execution_count": 14,
      "metadata": {
        "id": "PY055npnilwy",
        "colab": {
          "base_uri": "https://localhost:8080/"
        },
        "outputId": "910c4b31-8d5d-4220-a472-02746a0f43bd"
      },
      "outputs": [
        {
          "output_type": "execute_result",
          "data": {
            "text/plain": [
              "(0.004664547264421448, 0.990178640652111)"
            ]
          },
          "metadata": {},
          "execution_count": 14
        }
      ],
      "source": [
        "X= np.random.random((10,10))\n",
        "Xmin, Xmax = X.min(), X.max()\n",
        "X,\n",
        "X.min(),X.max()"
      ]
    },
    {
      "cell_type": "markdown",
      "metadata": {
        "id": "BKafpY19ilwy"
      },
      "source": [
        "#### 14. Create a random vector of size 30 and find the mean value (★☆☆) \n",
        "(**hint**: mean)"
      ]
    },
    {
      "cell_type": "code",
      "execution_count": 15,
      "metadata": {
        "id": "XCwrxB9Zilwz",
        "colab": {
          "base_uri": "https://localhost:8080/"
        },
        "outputId": "d8b52691-56b5-4602-f827-3b7405945a4e"
      },
      "outputs": [
        {
          "output_type": "stream",
          "name": "stdout",
          "text": [
            "0.52158208325386\n"
          ]
        }
      ],
      "source": [
        "X= np.random.random(30)\n",
        "m = X.mean()\n",
        "print (m)"
      ]
    },
    {
      "cell_type": "markdown",
      "metadata": {
        "id": "lOmS-Nd9ilwz"
      },
      "source": [
        "#### 15. Create a 2d array with 1 on the border and 0 inside (★☆☆) \n",
        "(**hint**: array\\[1:-1, 1:-1\\])"
      ]
    },
    {
      "cell_type": "code",
      "execution_count": 16,
      "metadata": {
        "id": "DtLSOJX2ilwz",
        "colab": {
          "base_uri": "https://localhost:8080/"
        },
        "outputId": "cb7c39ec-4b94-4263-c610-974915f8ef74"
      },
      "outputs": [
        {
          "output_type": "execute_result",
          "data": {
            "text/plain": [
              "array([[1., 1., 1., 1., 1., 1., 1., 1., 1., 1.],\n",
              "       [1., 0., 0., 0., 0., 0., 0., 0., 0., 1.],\n",
              "       [1., 0., 0., 0., 0., 0., 0., 0., 0., 1.],\n",
              "       [1., 0., 0., 0., 0., 0., 0., 0., 0., 1.],\n",
              "       [1., 0., 0., 0., 0., 0., 0., 0., 0., 1.],\n",
              "       [1., 0., 0., 0., 0., 0., 0., 0., 0., 1.],\n",
              "       [1., 0., 0., 0., 0., 0., 0., 0., 0., 1.],\n",
              "       [1., 0., 0., 0., 0., 0., 0., 0., 0., 1.],\n",
              "       [1., 0., 0., 0., 0., 0., 0., 0., 0., 1.],\n",
              "       [1., 1., 1., 1., 1., 1., 1., 1., 1., 1.]])"
            ]
          },
          "metadata": {},
          "execution_count": 16
        }
      ],
      "source": [
        "X=np.ones((10,10))\n",
        "X[1:-1,1:-1]=0\n",
        "X"
      ]
    },
    {
      "cell_type": "markdown",
      "metadata": {
        "id": "ilDUdVd7ilw0"
      },
      "source": [
        "#### 16. How to add a border (filled with 0's) around an existing array? (★☆☆) \n",
        "(**hint**: np.pad)"
      ]
    },
    {
      "cell_type": "code",
      "execution_count": 17,
      "metadata": {
        "id": "Po3ZUGKEilw0",
        "colab": {
          "base_uri": "https://localhost:8080/"
        },
        "outputId": "f6e35825-a988-4fb8-af1e-cd02282851f9"
      },
      "outputs": [
        {
          "output_type": "stream",
          "name": "stdout",
          "text": [
            "[[0. 0. 0. 0. 0. 0. 0. 0. 0. 0. 0. 0.]\n",
            " [0. 1. 1. 1. 1. 1. 1. 1. 1. 1. 1. 0.]\n",
            " [0. 1. 1. 1. 1. 1. 1. 1. 1. 1. 1. 0.]\n",
            " [0. 1. 1. 1. 1. 1. 1. 1. 1. 1. 1. 0.]\n",
            " [0. 1. 1. 1. 1. 1. 1. 1. 1. 1. 1. 0.]\n",
            " [0. 1. 1. 1. 1. 1. 1. 1. 1. 1. 1. 0.]\n",
            " [0. 1. 1. 1. 1. 1. 1. 1. 1. 1. 1. 0.]\n",
            " [0. 1. 1. 1. 1. 1. 1. 1. 1. 1. 1. 0.]\n",
            " [0. 1. 1. 1. 1. 1. 1. 1. 1. 1. 1. 0.]\n",
            " [0. 1. 1. 1. 1. 1. 1. 1. 1. 1. 1. 0.]\n",
            " [0. 1. 1. 1. 1. 1. 1. 1. 1. 1. 1. 0.]\n",
            " [0. 0. 0. 0. 0. 0. 0. 0. 0. 0. 0. 0.]]\n"
          ]
        }
      ],
      "source": [
        "X = np.ones((10,10))\n",
        "X = np.pad(X,pad_width=1,mode='constant',constant_values=0)\n",
        "print(X)"
      ]
    },
    {
      "cell_type": "markdown",
      "metadata": {
        "id": "6v5pxgYwilw1"
      },
      "source": [
        "#### 17. What is the result of the following expression? (★☆☆) \n",
        "(**hint**: NaN = not a number, inf = infinity)"
      ]
    },
    {
      "cell_type": "markdown",
      "metadata": {
        "id": "5IT7T0lsilw1"
      },
      "source": [
        "```python\n",
        "0 * np.nan\n",
        "np.nan == np.nan\n",
        "np.inf > np.nan\n",
        "np.nan - np.nan\n",
        "0.3 == 3 * 0.1\n",
        "```"
      ]
    },
    {
      "cell_type": "code",
      "execution_count": 103,
      "metadata": {
        "id": "ETsyaSL3ilw2",
        "colab": {
          "base_uri": "https://localhost:8080/"
        },
        "outputId": "19cda7d4-349c-48cb-e2ea-e997e5fb7fc6"
      },
      "outputs": [
        {
          "output_type": "execute_result",
          "data": {
            "text/plain": [
              "False"
            ]
          },
          "metadata": {},
          "execution_count": 103
        }
      ],
      "source": [
        "0 * np.nan\n",
        "np.nan == np.nan\n",
        "np.inf > np.nan\n",
        "np.nan - np.nan\n",
        "np.nan in set([np.nan])\n",
        "0.3 == 3 * 0.1"
      ]
    },
    {
      "cell_type": "markdown",
      "metadata": {
        "id": "WUK2MiUpilw2"
      },
      "source": [
        "#### 18. Create a 5x5 matrix with values 1,2,3,4 just below the diagonal (★☆☆) \n",
        "(**hint**: np.diag)"
      ]
    },
    {
      "cell_type": "code",
      "execution_count": 18,
      "metadata": {
        "id": "3CBZT2BZilw3",
        "colab": {
          "base_uri": "https://localhost:8080/"
        },
        "outputId": "d128f6ea-6b7b-4fd2-889c-933681b203c4"
      },
      "outputs": [
        {
          "output_type": "stream",
          "name": "stdout",
          "text": [
            "[[0 0 0 0 0]\n",
            " [1 0 0 0 0]\n",
            " [0 2 0 0 0]\n",
            " [0 0 3 0 0]\n",
            " [0 0 0 4 0]]\n"
          ]
        }
      ],
      "source": [
        "X= np.diag(1+np.arange(4), k = -1)\n",
        "print(X)"
      ]
    },
    {
      "cell_type": "markdown",
      "metadata": {
        "id": "jdY5MsLvilw3"
      },
      "source": [
        "#### 19. Create a 8x8 matrix and fill it with a checkerboard pattern (★☆☆) \n",
        "(**hint**: array\\[::2\\])"
      ]
    },
    {
      "cell_type": "code",
      "execution_count": 19,
      "metadata": {
        "id": "raHC7Rn4ilw4",
        "colab": {
          "base_uri": "https://localhost:8080/"
        },
        "outputId": "cf1254ac-3d52-44b3-dec5-e3d93e7ba899"
      },
      "outputs": [
        {
          "output_type": "stream",
          "name": "stdout",
          "text": [
            "[[0 1 0 1 0 1 0 1]\n",
            " [1 0 1 0 1 0 1 0]\n",
            " [0 1 0 1 0 1 0 1]\n",
            " [1 0 1 0 1 0 1 0]\n",
            " [0 1 0 1 0 1 0 1]\n",
            " [1 0 1 0 1 0 1 0]\n",
            " [0 1 0 1 0 1 0 1]\n",
            " [1 0 1 0 1 0 1 0]]\n"
          ]
        }
      ],
      "source": [
        "X=np.zeros((8,8),dtype=int)\n",
        "X[1::2, ::2]= 1\n",
        "X[::2, 1::2] = 1\n",
        "print(X)"
      ]
    },
    {
      "cell_type": "markdown",
      "metadata": {
        "id": "rBti2J76ilw4"
      },
      "source": [
        "#### 20. Consider a (6,7,8) shape array, what is the index (x,y,z) of the 100th element? \n",
        "(**hint**: np.unravel_index)"
      ]
    },
    {
      "cell_type": "code",
      "execution_count": 20,
      "metadata": {
        "id": "7IrfVdypilw4",
        "colab": {
          "base_uri": "https://localhost:8080/"
        },
        "outputId": "5adddeae-fc84-43b0-9ea9-759353d289c7"
      },
      "outputs": [
        {
          "output_type": "stream",
          "name": "stdout",
          "text": [
            "(1, 5, 4)\n"
          ]
        }
      ],
      "source": [
        "print (np.unravel_index(100, (6,7,8)))"
      ]
    },
    {
      "cell_type": "markdown",
      "metadata": {
        "id": "rzudYFgYilw5"
      },
      "source": [
        "#### 21. Create a checkerboard 8x8 matrix using the tile function (★☆☆) \n",
        "(**hint**: np.tile)"
      ]
    },
    {
      "cell_type": "code",
      "execution_count": 21,
      "metadata": {
        "id": "THje5Jqeilw6",
        "colab": {
          "base_uri": "https://localhost:8080/"
        },
        "outputId": "762b3b63-8549-4458-eec3-b0fc19dd60f7"
      },
      "outputs": [
        {
          "output_type": "stream",
          "name": "stdout",
          "text": [
            "[[0 1 0 1 0 1 0 1]\n",
            " [1 0 1 0 1 0 1 0]\n",
            " [0 1 0 1 0 1 0 1]\n",
            " [1 0 1 0 1 0 1 0]\n",
            " [0 1 0 1 0 1 0 1]\n",
            " [1 0 1 0 1 0 1 0]\n",
            " [0 1 0 1 0 1 0 1]\n",
            " [1 0 1 0 1 0 1 0]]\n"
          ]
        }
      ],
      "source": [
        "array= np.array([[0,1], [1,0]])\n",
        "Z = np.tile(array,(4,4))\n",
        "print (Z)"
      ]
    },
    {
      "cell_type": "markdown",
      "metadata": {
        "id": "mGpPdRtLilw7"
      },
      "source": [
        "#### 22. Normalize a 5x5 random matrix (★☆☆) \n",
        "(**hint**: (x - min) / (max - min))"
      ]
    },
    {
      "cell_type": "code",
      "execution_count": 22,
      "metadata": {
        "id": "Fn_L9-13ilw7",
        "colab": {
          "base_uri": "https://localhost:8080/"
        },
        "outputId": "56f1f32d-58fe-494f-d716-13b3eaa6ea51"
      },
      "outputs": [
        {
          "output_type": "stream",
          "name": "stdout",
          "text": [
            "[[0.86457652 0.58552653 0.11743634 0.25165783 0.92313384]\n",
            " [1.         0.         0.95165392 0.45479543 0.26203901]\n",
            " [0.02082524 0.67144917 0.43764734 0.65246033 0.98606062]\n",
            " [0.82849892 0.27143987 0.00805026 0.57067093 0.34709196]\n",
            " [0.50914351 0.62538011 0.40510884 0.54373332 0.26096282]]\n"
          ]
        }
      ],
      "source": [
        "X=np.random.random((5,5))\n",
        "Xmax,Xmin = X.max(),X.min()\n",
        "X= (X-Xmin)/(Xmax-Xmin)\n",
        "print(X)"
      ]
    },
    {
      "cell_type": "markdown",
      "metadata": {
        "id": "_F_m-BHYilw8"
      },
      "source": [
        "#### 23. Create a custom dtype that describes a color as four unsigned bytes (RGBA) (★☆☆) \n",
        "(**hint**: np.dtype)"
      ]
    },
    {
      "cell_type": "code",
      "execution_count": 23,
      "metadata": {
        "collapsed": true,
        "id": "0vux9jShilw8",
        "colab": {
          "base_uri": "https://localhost:8080/"
        },
        "outputId": "de90c4ba-1f37-4af1-db71-f977c8132ffd"
      },
      "outputs": [
        {
          "output_type": "stream",
          "name": "stdout",
          "text": [
            "1\n"
          ]
        },
        {
          "output_type": "execute_result",
          "data": {
            "text/plain": [
              "numpy.ndarray"
            ]
          },
          "metadata": {},
          "execution_count": 23
        }
      ],
      "source": [
        "RGBA = np.dtype([('red',np.ubyte),('green',np.ubyte),('blue',np.ubyte),('alpha',np.ubyte)])\n",
        "color = np.array((1,2,4,3),dtype = RGBA)\n",
        "print(color['red'])\n",
        "type(color)"
      ]
    },
    {
      "cell_type": "markdown",
      "metadata": {
        "id": "aG3xAFX_ilw8"
      },
      "source": [
        "#### 24. Multiply a 5x3 matrix by a 3x2 matrix (real matrix product) (★☆☆) \n",
        "(**hint**: np.dot | @)"
      ]
    },
    {
      "cell_type": "code",
      "execution_count": 24,
      "metadata": {
        "id": "bq9jkKozilw9",
        "colab": {
          "base_uri": "https://localhost:8080/"
        },
        "outputId": "86abb963-1605-45b0-d1b7-c5bf74ecd05a"
      },
      "outputs": [
        {
          "output_type": "stream",
          "name": "stdout",
          "text": [
            "[[0.28688531 0.51575862]\n",
            " [0.80753572 0.64422316]\n",
            " [0.3585424  0.42249445]\n",
            " [0.49182777 0.319076  ]\n",
            " [0.2565638  0.5550343 ]]\n"
          ]
        },
        {
          "output_type": "execute_result",
          "data": {
            "text/plain": [
              "array([[0.28688531, 0.51575862],\n",
              "       [0.80753572, 0.64422316],\n",
              "       [0.3585424 , 0.42249445],\n",
              "       [0.49182777, 0.319076  ],\n",
              "       [0.2565638 , 0.5550343 ]])"
            ]
          },
          "metadata": {},
          "execution_count": 24
        }
      ],
      "source": [
        "arr_1 = np.random.random((5,3))\n",
        "arr_2 = np.random.random((3,2))\n",
        "print(arr_1 @ arr_2)\n",
        "np.dot(arr_1,arr_2)"
      ]
    },
    {
      "cell_type": "markdown",
      "metadata": {
        "id": "uUQpkhNbilw9"
      },
      "source": [
        "#### 25. Given a 1D array, negate all elements which are between 3 and 8, in place. (★☆☆) \n",
        "(**hint**: >, <=)"
      ]
    },
    {
      "cell_type": "code",
      "execution_count": 25,
      "metadata": {
        "id": "EUC_45IAilw-",
        "colab": {
          "base_uri": "https://localhost:8080/"
        },
        "outputId": "ed2c4b56-5801-46a5-c9e7-cc8717836573"
      },
      "outputs": [
        {
          "output_type": "stream",
          "name": "stdout",
          "text": [
            "[False False False  True  True  True  True  True  True  True  True  True\n",
            "  True  True  True  True]\n",
            "[ 0  1  2 -3 -4 -5 -6 -7 -8  9 10 11 12 13 14 15]\n"
          ]
        }
      ],
      "source": [
        "arr=np.arange(16)\n",
        "print(arr>=3)\n",
        "arr[(arr>=3) & (arr<=8)]*=(-1)\n",
        "print(arr)\n"
      ]
    },
    {
      "cell_type": "markdown",
      "metadata": {
        "id": "ere4aBcTilw_"
      },
      "source": [
        "#### 26. What is the output of the following script? (★☆☆) \n",
        "(**hint**: np.sum)"
      ]
    },
    {
      "cell_type": "markdown",
      "metadata": {
        "id": "jCg6_GJ9ilw_"
      },
      "source": [
        "```python\n",
        "# Author: Jake VanderPlas\n",
        "\n",
        "print(sum(range(5),-1))\n",
        "from numpy import *\n",
        "print(sum(range(5),-1))\n",
        "```"
      ]
    },
    {
      "cell_type": "code",
      "execution_count": 26,
      "metadata": {
        "id": "fSc6d8hVilxA",
        "colab": {
          "base_uri": "https://localhost:8080/"
        },
        "outputId": "752d339e-6011-468c-b2cb-444727a087fa"
      },
      "outputs": [
        {
          "output_type": "stream",
          "name": "stdout",
          "text": [
            "9\n",
            "9\n"
          ]
        }
      ],
      "source": [
        "print(sum(range(5),-1))\n",
        "import numpy as np\n",
        "print(sum(range(5),-1))"
      ]
    },
    {
      "cell_type": "markdown",
      "metadata": {
        "id": "ocgr6OdYilxA"
      },
      "source": [
        "#### 27. Consider an integer vector Z, which of these expressions are legal? (★☆☆)"
      ]
    },
    {
      "cell_type": "markdown",
      "metadata": {
        "id": "pcwzOAUDilxB"
      },
      "source": [
        "```python\n",
        "Z**Z\n",
        "2 << Z >> 2\n",
        "Z <- Z\n",
        "1j*Z\n",
        "Z/1/1\n",
        "Z<Z>Z\n",
        "```"
      ]
    },
    {
      "cell_type": "code",
      "execution_count": null,
      "metadata": {
        "id": "_EdQIH_YilxB"
      },
      "outputs": [],
      "source": [
        "Z**Z\n",
        "2 << Z >> 2\n",
        "Z <- Z\n",
        "1j*Z\n",
        "Z/1/1\n",
        "Z<Z>Z"
      ]
    },
    {
      "cell_type": "markdown",
      "metadata": {
        "id": "KLe1SaPKilxB"
      },
      "source": [
        "#### 28. What are the result of the following expressions?"
      ]
    },
    {
      "cell_type": "markdown",
      "metadata": {
        "id": "fnFP5zKGilxC"
      },
      "source": [
        "```python\n",
        "np.array(0) / np.array(0)\n",
        "np.array(0) // np.array(0)\n",
        "np.array([np.nan]).astype(int).astype(float)\n",
        "```"
      ]
    },
    {
      "cell_type": "code",
      "execution_count": 27,
      "metadata": {
        "id": "gGe7yQAgilxC",
        "colab": {
          "base_uri": "https://localhost:8080/"
        },
        "outputId": "e379f51a-b4a1-4c49-95ca-f3b2e63f2255"
      },
      "outputs": [
        {
          "output_type": "execute_result",
          "data": {
            "text/plain": [
              "array([-9.22337204e+18])"
            ]
          },
          "metadata": {},
          "execution_count": 27
        }
      ],
      "source": [
        "np.array([np.nan]).astype(int).astype(float)"
      ]
    },
    {
      "cell_type": "markdown",
      "metadata": {
        "id": "ntopmguhilxC"
      },
      "source": [
        "#### 29. How to round away from zero a float array ? (★☆☆) \n",
        "(**hint**: np.uniform, np.copysign, np.ceil, np.abs)"
      ]
    },
    {
      "cell_type": "code",
      "execution_count": 28,
      "metadata": {
        "id": "h2IPYodIilxD",
        "colab": {
          "base_uri": "https://localhost:8080/"
        },
        "outputId": "cbf498bf-b482-40fa-cddb-c24f8f321e8d"
      },
      "outputs": [
        {
          "output_type": "stream",
          "name": "stdout",
          "text": [
            "[ -3.  -2.  -1. -10.   8.  -1.   7.  -9.   6.   1.]\n"
          ]
        }
      ],
      "source": [
        "X=np.random.uniform(-10,+10,10)\n",
        "print(np.copysign(np.ceil(np.abs(X)),X))"
      ]
    },
    {
      "cell_type": "markdown",
      "metadata": {
        "id": "8dsdK6iwilxD"
      },
      "source": [
        "#### 30. How to find common values between two arrays? (★☆☆) \n",
        "(**hint**: np.intersect1d)"
      ]
    },
    {
      "cell_type": "code",
      "execution_count": 29,
      "metadata": {
        "id": "Jyb4b-f4ilxK",
        "colab": {
          "base_uri": "https://localhost:8080/"
        },
        "outputId": "19f263b5-8fbb-4eb8-dd87-32272101336f"
      },
      "outputs": [
        {
          "output_type": "stream",
          "name": "stdout",
          "text": [
            "[6 8 9]\n"
          ]
        }
      ],
      "source": [
        "x1 = np.random.randint(0,10,10)\n",
        "x2 = np.random.randint(0,10,10)\n",
        "print(np.intersect1d(x1,x2))"
      ]
    },
    {
      "cell_type": "markdown",
      "metadata": {
        "id": "e9R5qGK2ilxK"
      },
      "source": [
        "#### 31. How to ignore all numpy warnings (not recommended)? (★☆☆) \n",
        "(**hint**: np.seterr, np.errstate)"
      ]
    },
    {
      "cell_type": "code",
      "execution_count": 29,
      "metadata": {
        "id": "Wkp-BEFIilxL"
      },
      "outputs": [],
      "source": [
        "defaults = np.seterr(all=\"ignore\")\n",
        "Z = np.ones(1) / 0\n",
        "\n",
        "# Back to sanity\n",
        "_ = np.seterr(**defaults)\n",
        "\n",
        "# Equivalently with a context manager\n",
        "with np.errstate(all=\"ignore\"):\n",
        "    np.arange(3) / 0"
      ]
    },
    {
      "cell_type": "markdown",
      "metadata": {
        "id": "nWN6SXQnilxL"
      },
      "source": [
        "#### 32. Is the following expressions true? (★☆☆) \n",
        "(**hint**: imaginary number)"
      ]
    },
    {
      "cell_type": "markdown",
      "metadata": {
        "id": "JXtDTWy5ilxL"
      },
      "source": [
        "```python\n",
        "np.sqrt(-1) == np.emath.sqrt(-1)\n",
        "```"
      ]
    },
    {
      "cell_type": "code",
      "execution_count": 30,
      "metadata": {
        "id": "2A3SQsSJilxL",
        "colab": {
          "base_uri": "https://localhost:8080/"
        },
        "outputId": "b59194d0-34ae-4842-dec5-63125b461c31"
      },
      "outputs": [
        {
          "output_type": "stream",
          "name": "stderr",
          "text": [
            "/usr/local/lib/python3.7/dist-packages/ipykernel_launcher.py:1: RuntimeWarning: invalid value encountered in sqrt\n",
            "  \"\"\"Entry point for launching an IPython kernel.\n"
          ]
        },
        {
          "output_type": "execute_result",
          "data": {
            "text/plain": [
              "False"
            ]
          },
          "metadata": {},
          "execution_count": 30
        }
      ],
      "source": [
        "np.sqrt(-1) == np.emath.sqrt(-1)#False"
      ]
    },
    {
      "cell_type": "markdown",
      "metadata": {
        "id": "IFwBUtHDilxM"
      },
      "source": [
        "#### 33. How to get the dates of yesterday, today and tomorrow? (★☆☆) \n",
        "(**hint**: np.datetime64, np.timedelta64)"
      ]
    },
    {
      "cell_type": "code",
      "execution_count": 31,
      "metadata": {
        "collapsed": true,
        "id": "OCHp1ahJilxN"
      },
      "outputs": [],
      "source": [
        "yesterday = np.datetime64('today', 'D') - np.timedelta64(1, 'D')\n",
        "today     = np.datetime64('today', 'D')\n",
        "tomorrow  = np.datetime64('today', 'D') + np.timedelta64(1, 'D')"
      ]
    },
    {
      "cell_type": "markdown",
      "metadata": {
        "id": "4mQC9wmqilxN"
      },
      "source": [
        "#### 34. How to get all the dates corresponding to the month of July 2016? (★★☆) \n",
        "(**hint**: np.arange(dtype=datetime64\\['D'\\]))"
      ]
    },
    {
      "cell_type": "code",
      "execution_count": 32,
      "metadata": {
        "id": "MNmwhp4oilxO",
        "colab": {
          "base_uri": "https://localhost:8080/"
        },
        "outputId": "bf39da42-1e2f-4633-d8eb-578a47ad95c8"
      },
      "outputs": [
        {
          "output_type": "stream",
          "name": "stdout",
          "text": [
            "['2016-07-01' '2016-07-02' '2016-07-03' '2016-07-04' '2016-07-05'\n",
            " '2016-07-06' '2016-07-07' '2016-07-08' '2016-07-09' '2016-07-10'\n",
            " '2016-07-11' '2016-07-12' '2016-07-13' '2016-07-14' '2016-07-15'\n",
            " '2016-07-16' '2016-07-17' '2016-07-18' '2016-07-19' '2016-07-20'\n",
            " '2016-07-21' '2016-07-22' '2016-07-23' '2016-07-24' '2016-07-25'\n",
            " '2016-07-26' '2016-07-27' '2016-07-28' '2016-07-29' '2016-07-30'\n",
            " '2016-07-31']\n"
          ]
        }
      ],
      "source": [
        "x= np.arange('2016-07', '2016-08', dtype='datetime64[D]')\n",
        "print(x)"
      ]
    },
    {
      "cell_type": "markdown",
      "metadata": {
        "id": "wchCB64EilxO"
      },
      "source": [
        "#### 35. How to compute ((A+B)\\*(-A/2)) in place (without copy)? (★★☆) \n",
        "(**hint**: np.add(out=), np.negative(out=), np.multiply(out=), np.divide(out=))"
      ]
    },
    {
      "cell_type": "code",
      "execution_count": 33,
      "metadata": {
        "id": "pYSmlvHailxP",
        "colab": {
          "base_uri": "https://localhost:8080/"
        },
        "outputId": "7b948ec4-5a10-4ac2-e7a1-3a3445dcc923"
      },
      "outputs": [
        {
          "output_type": "execute_result",
          "data": {
            "text/plain": [
              "array([-1.5, -1.5, -1.5])"
            ]
          },
          "metadata": {},
          "execution_count": 33
        }
      ],
      "source": [
        "A = np.ones(3)*1\n",
        "B = np.ones(3)*2\n",
        "np.add(A,B,out=B)\n",
        "np.divide(A,2,out=A)\n",
        "np.negative(A,out=A)\n",
        "np.multiply(A,B,out=A)"
      ]
    },
    {
      "cell_type": "markdown",
      "metadata": {
        "id": "aAMV5_SlilxP"
      },
      "source": [
        "#### 36. Extract the integer part of a random array using 5 different methods (★★☆) \n",
        "(**hint**: %, np.floor, np.ceil, astype, np.trunc)"
      ]
    },
    {
      "cell_type": "code",
      "execution_count": 34,
      "metadata": {
        "id": "xCw4k5gCilxQ",
        "colab": {
          "base_uri": "https://localhost:8080/"
        },
        "outputId": "dc0ee0e8-7073-459c-f9a8-8b266aec4736"
      },
      "outputs": [
        {
          "output_type": "stream",
          "name": "stdout",
          "text": [
            "[4. 8. 8. 3. 3. 5. 6. 3. 8. 4.]\n",
            "[4. 8. 8. 3. 3. 5. 6. 3. 8. 4.]\n",
            "[4. 8. 8. 3. 3. 5. 6. 3. 8. 4.]\n",
            "[4 8 8 3 3 5 6 3 8 4]\n",
            "[4. 8. 8. 3. 3. 5. 6. 3. 8. 4.]\n",
            "[4. 8. 8. 3. 3. 5. 6. 3. 8. 4.]\n"
          ]
        }
      ],
      "source": [
        "x= np.random.uniform(0,10,10)\n",
        "print(x- x%1)\n",
        "print(x // 1)\n",
        "print(np.floor(x))\n",
        "print(x.astype(int))\n",
        "print(np.trunc(x))\n",
        "print(np.ceil(x)-1)"
      ]
    },
    {
      "cell_type": "markdown",
      "metadata": {
        "id": "XDPsq2hcilxQ"
      },
      "source": [
        "#### 37. Create a 5x5 matrix with row values ranging from 0 to 4 (★★☆) \n",
        "(**hint**: np.arange)"
      ]
    },
    {
      "cell_type": "code",
      "execution_count": 35,
      "metadata": {
        "id": "MuzXpPrAilxQ",
        "colab": {
          "base_uri": "https://localhost:8080/"
        },
        "outputId": "ee21e37a-73d4-4964-8cd2-3b352bc0993f"
      },
      "outputs": [
        {
          "output_type": "stream",
          "name": "stdout",
          "text": [
            "[[0. 1. 2. 3. 4.]\n",
            " [0. 1. 2. 3. 4.]\n",
            " [0. 1. 2. 3. 4.]\n",
            " [0. 1. 2. 3. 4.]\n",
            " [0. 1. 2. 3. 4.]]\n",
            "[[0 1 2 3 4]\n",
            " [0 1 2 3 4]\n",
            " [0 1 2 3 4]\n",
            " [0 1 2 3 4]\n",
            " [0 1 2 3 4]]\n"
          ]
        }
      ],
      "source": [
        "x=np.zeros((5,5))\n",
        "x += np.arange(5)\n",
        "print(x)\n",
        "# without broadcasting\n",
        "x=np.tile(np.arange(0, 5), (5,1))\n",
        "print(x)"
      ]
    },
    {
      "cell_type": "markdown",
      "metadata": {
        "id": "uXSGqwqzilxR"
      },
      "source": [
        "#### 38. Consider a generator function that generates 10 integers and use it to build an array (★☆☆) \n",
        "(**hint**: np.fromiter)"
      ]
    },
    {
      "cell_type": "code",
      "execution_count": 36,
      "metadata": {
        "id": "SCUX27MRilxR",
        "colab": {
          "base_uri": "https://localhost:8080/"
        },
        "outputId": "900f248a-5706-4f09-ba17-354f3f39fc7a"
      },
      "outputs": [
        {
          "output_type": "stream",
          "name": "stdout",
          "text": [
            "[0. 1. 2. 3. 4. 5. 6. 7. 8. 9.]\n"
          ]
        }
      ],
      "source": [
        "def generate():\n",
        "    for x in range(10):\n",
        "        yield x\n",
        "z= np.fromiter(generate(),dtype=float,count=-1)\n",
        "print(z)"
      ]
    },
    {
      "cell_type": "markdown",
      "metadata": {
        "id": "PFVdG02jilxR"
      },
      "source": [
        "#### 39. Create a vector of size 10 with values ranging from 0 to 1, both excluded (★★☆) \n",
        "(**hint**: np.linspace)"
      ]
    },
    {
      "cell_type": "code",
      "execution_count": 37,
      "metadata": {
        "id": "UqsorYgZilxS",
        "colab": {
          "base_uri": "https://localhost:8080/"
        },
        "outputId": "9cb4d1aa-f527-4e29-aedc-b961a7dff144"
      },
      "outputs": [
        {
          "output_type": "stream",
          "name": "stdout",
          "text": [
            "[0.09090909 0.18181818 0.27272727 0.36363636 0.45454545 0.54545455\n",
            " 0.63636364 0.72727273 0.81818182 0.90909091]\n"
          ]
        }
      ],
      "source": [
        "x=np.linspace(0,1,11,endpoint=False)[1:]\n",
        "print(x)"
      ]
    },
    {
      "cell_type": "markdown",
      "metadata": {
        "id": "SUA9lVKwilxS"
      },
      "source": [
        "#### 40. Create a random vector of size 10 and sort it (★★☆) \n",
        "(**hint**: sort)"
      ]
    },
    {
      "cell_type": "code",
      "execution_count": 38,
      "metadata": {
        "id": "LkJbbFIQilxS",
        "colab": {
          "base_uri": "https://localhost:8080/"
        },
        "outputId": "43220b98-48d4-4ef6-bf9a-c4132083df6e"
      },
      "outputs": [
        {
          "output_type": "stream",
          "name": "stdout",
          "text": [
            "[0.00418227 0.02187921 0.06697664 0.2132505  0.3953436  0.48746736\n",
            " 0.5481464  0.5788232  0.65561721 0.97813773]\n"
          ]
        }
      ],
      "source": [
        "x=np.random.random(10)\n",
        "x.sort()\n",
        "print(x)"
      ]
    },
    {
      "cell_type": "markdown",
      "metadata": {
        "id": "Uo2jXqgRilxT"
      },
      "source": [
        "#### 41. How to sum a small array faster than np.sum? (★★☆) \n",
        "(**hint**: np.add.reduce)"
      ]
    },
    {
      "cell_type": "code",
      "execution_count": 39,
      "metadata": {
        "id": "gp2bzxqNilxT",
        "colab": {
          "base_uri": "https://localhost:8080/"
        },
        "outputId": "db523f2e-4c5c-4321-e945-662b8ab3e3ec"
      },
      "outputs": [
        {
          "output_type": "execute_result",
          "data": {
            "text/plain": [
              "45"
            ]
          },
          "metadata": {},
          "execution_count": 39
        }
      ],
      "source": [
        "x= np.arange(10)\n",
        "np.add.reduce(x)"
      ]
    },
    {
      "cell_type": "markdown",
      "metadata": {
        "id": "ls_rK0CUilxU"
      },
      "source": [
        "#### 42. Consider two random array A and B, check if they are equal (★★☆) \n",
        "(**hint**: np.allclose, np.array\\_equal)"
      ]
    },
    {
      "cell_type": "code",
      "execution_count": 40,
      "metadata": {
        "id": "1omOf0M1ilxU",
        "colab": {
          "base_uri": "https://localhost:8080/"
        },
        "outputId": "907d3fa9-a807-4ccb-8b13-f732dccb466c"
      },
      "outputs": [
        {
          "output_type": "stream",
          "name": "stdout",
          "text": [
            "False\n",
            "False\n"
          ]
        }
      ],
      "source": [
        "A = np.random.randint(0,2,5)\n",
        "B = np.random.randint(0,2,5)\n",
        "\n",
        "# Assuming identical shape of the arrays and a tolerance for the comparison of values\n",
        "equal = np.allclose(A,B)\n",
        "print(equal)\n",
        "\n",
        "# Checking both the shape and the element values, no tolerance (values have to be exactly equal)\n",
        "equal = np.array_equal(A,B)\n",
        "print(equal)"
      ]
    },
    {
      "cell_type": "markdown",
      "metadata": {
        "id": "wn3g3ywlilxU"
      },
      "source": [
        "#### 43. Make an array immutable (read-only) (★★☆) \n",
        "(**hint**: flags.writeable)"
      ]
    },
    {
      "cell_type": "code",
      "execution_count": null,
      "metadata": {
        "id": "G5-R6cJ8ilxU"
      },
      "outputs": [],
      "source": [
        "x= np.zeros(10)\n",
        "x.flags.writeable = False\n",
        "x[0] = 1\n",
        "#Assignment destination is read-only"
      ]
    },
    {
      "cell_type": "markdown",
      "metadata": {
        "id": "VXbTeZWKilxV"
      },
      "source": [
        "#### 44. Consider a random 10x2 matrix representing cartesian coordinates, convert them to polar coordinates (★★☆) \n",
        "(**hint**: np.sqrt, np.arctan2)"
      ]
    },
    {
      "cell_type": "code",
      "execution_count": 42,
      "metadata": {
        "id": "Ro6bzq1PilxV",
        "colab": {
          "base_uri": "https://localhost:8080/"
        },
        "outputId": "37c4e745-959b-4f05-c0e9-42f864a54efa"
      },
      "outputs": [
        {
          "output_type": "stream",
          "name": "stdout",
          "text": [
            "[1.0840858  0.71696513 0.86720353 0.75289786 0.97038662 1.08768165\n",
            " 0.40544692 0.04993375 1.00574975 1.37908487]\n",
            "[0.92674519 0.18073043 1.16086808 1.21289607 1.39798149 0.74243235\n",
            " 1.46434804 1.03499932 0.46348501 0.80672223]\n"
          ]
        }
      ],
      "source": [
        "Z = np.random.random((10,2))\n",
        "X,Y = Z[:,0], Z[:,1]\n",
        "R = np.sqrt(X**2+Y**2)\n",
        "T = np.arctan2(Y,X)\n",
        "print(R)\n",
        "print(T)"
      ]
    },
    {
      "cell_type": "markdown",
      "metadata": {
        "id": "LZE4NvlwilxV"
      },
      "source": [
        "#### 45. Create random vector of size 10 and replace the maximum value by 0 (★★☆) \n",
        "(**hint**: argmax)"
      ]
    },
    {
      "cell_type": "code",
      "execution_count": 43,
      "metadata": {
        "id": "zEsaTnenilxW",
        "colab": {
          "base_uri": "https://localhost:8080/"
        },
        "outputId": "e32c8359-1e66-47b3-98aa-273712b56073"
      },
      "outputs": [
        {
          "output_type": "stream",
          "name": "stdout",
          "text": [
            "[0.         0.71968044 0.19489088 0.06723001 0.14912908 0.74438188\n",
            " 0.44221845 0.61296009 0.02079914 0.56610085]\n"
          ]
        }
      ],
      "source": [
        "x=np.random.random(10)\n",
        "x[x.argmax()] = 0\n",
        "print(x)"
      ]
    },
    {
      "cell_type": "markdown",
      "metadata": {
        "id": "0QZh4p6DilxW"
      },
      "source": [
        "#### 46. Create a structured array with `x` and `y` coordinates covering the \\[0,1\\]x\\[0,1\\] area (★★☆) \n",
        "(**hint**: np.meshgrid)"
      ]
    },
    {
      "cell_type": "code",
      "execution_count": 44,
      "metadata": {
        "id": "b4JRB_YLilxW",
        "colab": {
          "base_uri": "https://localhost:8080/"
        },
        "outputId": "41c9a61e-fc10-46f2-f404-c8ef3c065cf8"
      },
      "outputs": [
        {
          "output_type": "stream",
          "name": "stdout",
          "text": [
            "[[(0.  , 0.  ) (0.25, 0.  ) (0.5 , 0.  ) (0.75, 0.  ) (1.  , 0.  )]\n",
            " [(0.  , 0.25) (0.25, 0.25) (0.5 , 0.25) (0.75, 0.25) (1.  , 0.25)]\n",
            " [(0.  , 0.5 ) (0.25, 0.5 ) (0.5 , 0.5 ) (0.75, 0.5 ) (1.  , 0.5 )]\n",
            " [(0.  , 0.75) (0.25, 0.75) (0.5 , 0.75) (0.75, 0.75) (1.  , 0.75)]\n",
            " [(0.  , 1.  ) (0.25, 1.  ) (0.5 , 1.  ) (0.75, 1.  ) (1.  , 1.  )]]\n"
          ]
        }
      ],
      "source": [
        "Z = np.zeros((5,5), [('x',float),('y',float)])\n",
        "Z['x'], Z['y'] = np.meshgrid(np.linspace(0,1,5),\n",
        "                             np.linspace(0,1,5))\n",
        "print(Z)"
      ]
    },
    {
      "cell_type": "markdown",
      "metadata": {
        "id": "Kn-l0Pl-ilxW"
      },
      "source": [
        "####  47. Given two arrays, X and Y, construct the Cauchy matrix C (Cij =1/(xi - yj)) \n",
        "(**hint**: np.subtract.outer)"
      ]
    },
    {
      "cell_type": "code",
      "execution_count": 45,
      "metadata": {
        "id": "ZM7APSe7ilxX",
        "colab": {
          "base_uri": "https://localhost:8080/"
        },
        "outputId": "cfd889cc-b213-4cc0-d28d-e8eeb98730d4"
      },
      "outputs": [
        {
          "output_type": "stream",
          "name": "stdout",
          "text": [
            "3638.163637117973\n"
          ]
        }
      ],
      "source": [
        "X = np.arange(8)\n",
        "Y = X + 0.5\n",
        "C = 1.0 / np.subtract.outer(X, Y)\n",
        "print(np.linalg.det(C))"
      ]
    },
    {
      "cell_type": "markdown",
      "metadata": {
        "id": "tN4AhND4ilxX"
      },
      "source": [
        "#### 48. Print the minimum and maximum representable value for each numpy scalar type (★★☆) \n",
        "(**hint**: np.iinfo, np.finfo, eps)"
      ]
    },
    {
      "cell_type": "code",
      "execution_count": 46,
      "metadata": {
        "id": "0m0vJDZzilxX",
        "colab": {
          "base_uri": "https://localhost:8080/"
        },
        "outputId": "61840a66-92b6-436b-ad85-ba79cf7a2b31"
      },
      "outputs": [
        {
          "output_type": "stream",
          "name": "stdout",
          "text": [
            "-128\n",
            "127\n",
            "-2147483648\n",
            "2147483647\n",
            "-9223372036854775808\n",
            "9223372036854775807\n",
            "-3.4028235e+38\n",
            "3.4028235e+38\n",
            "1.1920929e-07\n",
            "-1.7976931348623157e+308\n",
            "1.7976931348623157e+308\n",
            "2.220446049250313e-16\n"
          ]
        }
      ],
      "source": [
        "for dtype in [np.int8, np.int32, np.int64]:\n",
        "   print(np.iinfo(dtype).min)\n",
        "   print(np.iinfo(dtype).max)\n",
        "for dtype in [np.float32, np.float64]:\n",
        "   print(np.finfo(dtype).min)\n",
        "   print(np.finfo(dtype).max)\n",
        "   print(np.finfo(dtype).eps)"
      ]
    },
    {
      "cell_type": "markdown",
      "metadata": {
        "id": "LcesjMdgilxX"
      },
      "source": [
        "#### 49. How to print all the values of an array? (★★☆) \n",
        "(**hint**: np.set\\_printoptions)"
      ]
    },
    {
      "cell_type": "code",
      "execution_count": 47,
      "metadata": {
        "id": "So5MOAKmilxY",
        "colab": {
          "base_uri": "https://localhost:8080/"
        },
        "outputId": "4a823c5b-d3ed-4e6c-8d58-73be68eae0ff"
      },
      "outputs": [
        {
          "output_type": "stream",
          "name": "stdout",
          "text": [
            "[[0. 0. 0. 0. 0. 0. 0. 0. 0. 0. 0. 0. 0. 0. 0. 0. 0. 0. 0. 0. 0. 0. 0. 0.\n",
            "  0. 0. 0. 0. 0. 0. 0. 0. 0. 0. 0. 0. 0. 0. 0. 0.]\n",
            " [0. 0. 0. 0. 0. 0. 0. 0. 0. 0. 0. 0. 0. 0. 0. 0. 0. 0. 0. 0. 0. 0. 0. 0.\n",
            "  0. 0. 0. 0. 0. 0. 0. 0. 0. 0. 0. 0. 0. 0. 0. 0.]\n",
            " [0. 0. 0. 0. 0. 0. 0. 0. 0. 0. 0. 0. 0. 0. 0. 0. 0. 0. 0. 0. 0. 0. 0. 0.\n",
            "  0. 0. 0. 0. 0. 0. 0. 0. 0. 0. 0. 0. 0. 0. 0. 0.]\n",
            " [0. 0. 0. 0. 0. 0. 0. 0. 0. 0. 0. 0. 0. 0. 0. 0. 0. 0. 0. 0. 0. 0. 0. 0.\n",
            "  0. 0. 0. 0. 0. 0. 0. 0. 0. 0. 0. 0. 0. 0. 0. 0.]\n",
            " [0. 0. 0. 0. 0. 0. 0. 0. 0. 0. 0. 0. 0. 0. 0. 0. 0. 0. 0. 0. 0. 0. 0. 0.\n",
            "  0. 0. 0. 0. 0. 0. 0. 0. 0. 0. 0. 0. 0. 0. 0. 0.]\n",
            " [0. 0. 0. 0. 0. 0. 0. 0. 0. 0. 0. 0. 0. 0. 0. 0. 0. 0. 0. 0. 0. 0. 0. 0.\n",
            "  0. 0. 0. 0. 0. 0. 0. 0. 0. 0. 0. 0. 0. 0. 0. 0.]\n",
            " [0. 0. 0. 0. 0. 0. 0. 0. 0. 0. 0. 0. 0. 0. 0. 0. 0. 0. 0. 0. 0. 0. 0. 0.\n",
            "  0. 0. 0. 0. 0. 0. 0. 0. 0. 0. 0. 0. 0. 0. 0. 0.]\n",
            " [0. 0. 0. 0. 0. 0. 0. 0. 0. 0. 0. 0. 0. 0. 0. 0. 0. 0. 0. 0. 0. 0. 0. 0.\n",
            "  0. 0. 0. 0. 0. 0. 0. 0. 0. 0. 0. 0. 0. 0. 0. 0.]\n",
            " [0. 0. 0. 0. 0. 0. 0. 0. 0. 0. 0. 0. 0. 0. 0. 0. 0. 0. 0. 0. 0. 0. 0. 0.\n",
            "  0. 0. 0. 0. 0. 0. 0. 0. 0. 0. 0. 0. 0. 0. 0. 0.]\n",
            " [0. 0. 0. 0. 0. 0. 0. 0. 0. 0. 0. 0. 0. 0. 0. 0. 0. 0. 0. 0. 0. 0. 0. 0.\n",
            "  0. 0. 0. 0. 0. 0. 0. 0. 0. 0. 0. 0. 0. 0. 0. 0.]\n",
            " [0. 0. 0. 0. 0. 0. 0. 0. 0. 0. 0. 0. 0. 0. 0. 0. 0. 0. 0. 0. 0. 0. 0. 0.\n",
            "  0. 0. 0. 0. 0. 0. 0. 0. 0. 0. 0. 0. 0. 0. 0. 0.]\n",
            " [0. 0. 0. 0. 0. 0. 0. 0. 0. 0. 0. 0. 0. 0. 0. 0. 0. 0. 0. 0. 0. 0. 0. 0.\n",
            "  0. 0. 0. 0. 0. 0. 0. 0. 0. 0. 0. 0. 0. 0. 0. 0.]\n",
            " [0. 0. 0. 0. 0. 0. 0. 0. 0. 0. 0. 0. 0. 0. 0. 0. 0. 0. 0. 0. 0. 0. 0. 0.\n",
            "  0. 0. 0. 0. 0. 0. 0. 0. 0. 0. 0. 0. 0. 0. 0. 0.]\n",
            " [0. 0. 0. 0. 0. 0. 0. 0. 0. 0. 0. 0. 0. 0. 0. 0. 0. 0. 0. 0. 0. 0. 0. 0.\n",
            "  0. 0. 0. 0. 0. 0. 0. 0. 0. 0. 0. 0. 0. 0. 0. 0.]\n",
            " [0. 0. 0. 0. 0. 0. 0. 0. 0. 0. 0. 0. 0. 0. 0. 0. 0. 0. 0. 0. 0. 0. 0. 0.\n",
            "  0. 0. 0. 0. 0. 0. 0. 0. 0. 0. 0. 0. 0. 0. 0. 0.]\n",
            " [0. 0. 0. 0. 0. 0. 0. 0. 0. 0. 0. 0. 0. 0. 0. 0. 0. 0. 0. 0. 0. 0. 0. 0.\n",
            "  0. 0. 0. 0. 0. 0. 0. 0. 0. 0. 0. 0. 0. 0. 0. 0.]\n",
            " [0. 0. 0. 0. 0. 0. 0. 0. 0. 0. 0. 0. 0. 0. 0. 0. 0. 0. 0. 0. 0. 0. 0. 0.\n",
            "  0. 0. 0. 0. 0. 0. 0. 0. 0. 0. 0. 0. 0. 0. 0. 0.]\n",
            " [0. 0. 0. 0. 0. 0. 0. 0. 0. 0. 0. 0. 0. 0. 0. 0. 0. 0. 0. 0. 0. 0. 0. 0.\n",
            "  0. 0. 0. 0. 0. 0. 0. 0. 0. 0. 0. 0. 0. 0. 0. 0.]\n",
            " [0. 0. 0. 0. 0. 0. 0. 0. 0. 0. 0. 0. 0. 0. 0. 0. 0. 0. 0. 0. 0. 0. 0. 0.\n",
            "  0. 0. 0. 0. 0. 0. 0. 0. 0. 0. 0. 0. 0. 0. 0. 0.]\n",
            " [0. 0. 0. 0. 0. 0. 0. 0. 0. 0. 0. 0. 0. 0. 0. 0. 0. 0. 0. 0. 0. 0. 0. 0.\n",
            "  0. 0. 0. 0. 0. 0. 0. 0. 0. 0. 0. 0. 0. 0. 0. 0.]\n",
            " [0. 0. 0. 0. 0. 0. 0. 0. 0. 0. 0. 0. 0. 0. 0. 0. 0. 0. 0. 0. 0. 0. 0. 0.\n",
            "  0. 0. 0. 0. 0. 0. 0. 0. 0. 0. 0. 0. 0. 0. 0. 0.]\n",
            " [0. 0. 0. 0. 0. 0. 0. 0. 0. 0. 0. 0. 0. 0. 0. 0. 0. 0. 0. 0. 0. 0. 0. 0.\n",
            "  0. 0. 0. 0. 0. 0. 0. 0. 0. 0. 0. 0. 0. 0. 0. 0.]\n",
            " [0. 0. 0. 0. 0. 0. 0. 0. 0. 0. 0. 0. 0. 0. 0. 0. 0. 0. 0. 0. 0. 0. 0. 0.\n",
            "  0. 0. 0. 0. 0. 0. 0. 0. 0. 0. 0. 0. 0. 0. 0. 0.]\n",
            " [0. 0. 0. 0. 0. 0. 0. 0. 0. 0. 0. 0. 0. 0. 0. 0. 0. 0. 0. 0. 0. 0. 0. 0.\n",
            "  0. 0. 0. 0. 0. 0. 0. 0. 0. 0. 0. 0. 0. 0. 0. 0.]\n",
            " [0. 0. 0. 0. 0. 0. 0. 0. 0. 0. 0. 0. 0. 0. 0. 0. 0. 0. 0. 0. 0. 0. 0. 0.\n",
            "  0. 0. 0. 0. 0. 0. 0. 0. 0. 0. 0. 0. 0. 0. 0. 0.]\n",
            " [0. 0. 0. 0. 0. 0. 0. 0. 0. 0. 0. 0. 0. 0. 0. 0. 0. 0. 0. 0. 0. 0. 0. 0.\n",
            "  0. 0. 0. 0. 0. 0. 0. 0. 0. 0. 0. 0. 0. 0. 0. 0.]\n",
            " [0. 0. 0. 0. 0. 0. 0. 0. 0. 0. 0. 0. 0. 0. 0. 0. 0. 0. 0. 0. 0. 0. 0. 0.\n",
            "  0. 0. 0. 0. 0. 0. 0. 0. 0. 0. 0. 0. 0. 0. 0. 0.]\n",
            " [0. 0. 0. 0. 0. 0. 0. 0. 0. 0. 0. 0. 0. 0. 0. 0. 0. 0. 0. 0. 0. 0. 0. 0.\n",
            "  0. 0. 0. 0. 0. 0. 0. 0. 0. 0. 0. 0. 0. 0. 0. 0.]\n",
            " [0. 0. 0. 0. 0. 0. 0. 0. 0. 0. 0. 0. 0. 0. 0. 0. 0. 0. 0. 0. 0. 0. 0. 0.\n",
            "  0. 0. 0. 0. 0. 0. 0. 0. 0. 0. 0. 0. 0. 0. 0. 0.]\n",
            " [0. 0. 0. 0. 0. 0. 0. 0. 0. 0. 0. 0. 0. 0. 0. 0. 0. 0. 0. 0. 0. 0. 0. 0.\n",
            "  0. 0. 0. 0. 0. 0. 0. 0. 0. 0. 0. 0. 0. 0. 0. 0.]\n",
            " [0. 0. 0. 0. 0. 0. 0. 0. 0. 0. 0. 0. 0. 0. 0. 0. 0. 0. 0. 0. 0. 0. 0. 0.\n",
            "  0. 0. 0. 0. 0. 0. 0. 0. 0. 0. 0. 0. 0. 0. 0. 0.]\n",
            " [0. 0. 0. 0. 0. 0. 0. 0. 0. 0. 0. 0. 0. 0. 0. 0. 0. 0. 0. 0. 0. 0. 0. 0.\n",
            "  0. 0. 0. 0. 0. 0. 0. 0. 0. 0. 0. 0. 0. 0. 0. 0.]\n",
            " [0. 0. 0. 0. 0. 0. 0. 0. 0. 0. 0. 0. 0. 0. 0. 0. 0. 0. 0. 0. 0. 0. 0. 0.\n",
            "  0. 0. 0. 0. 0. 0. 0. 0. 0. 0. 0. 0. 0. 0. 0. 0.]\n",
            " [0. 0. 0. 0. 0. 0. 0. 0. 0. 0. 0. 0. 0. 0. 0. 0. 0. 0. 0. 0. 0. 0. 0. 0.\n",
            "  0. 0. 0. 0. 0. 0. 0. 0. 0. 0. 0. 0. 0. 0. 0. 0.]\n",
            " [0. 0. 0. 0. 0. 0. 0. 0. 0. 0. 0. 0. 0. 0. 0. 0. 0. 0. 0. 0. 0. 0. 0. 0.\n",
            "  0. 0. 0. 0. 0. 0. 0. 0. 0. 0. 0. 0. 0. 0. 0. 0.]\n",
            " [0. 0. 0. 0. 0. 0. 0. 0. 0. 0. 0. 0. 0. 0. 0. 0. 0. 0. 0. 0. 0. 0. 0. 0.\n",
            "  0. 0. 0. 0. 0. 0. 0. 0. 0. 0. 0. 0. 0. 0. 0. 0.]\n",
            " [0. 0. 0. 0. 0. 0. 0. 0. 0. 0. 0. 0. 0. 0. 0. 0. 0. 0. 0. 0. 0. 0. 0. 0.\n",
            "  0. 0. 0. 0. 0. 0. 0. 0. 0. 0. 0. 0. 0. 0. 0. 0.]\n",
            " [0. 0. 0. 0. 0. 0. 0. 0. 0. 0. 0. 0. 0. 0. 0. 0. 0. 0. 0. 0. 0. 0. 0. 0.\n",
            "  0. 0. 0. 0. 0. 0. 0. 0. 0. 0. 0. 0. 0. 0. 0. 0.]\n",
            " [0. 0. 0. 0. 0. 0. 0. 0. 0. 0. 0. 0. 0. 0. 0. 0. 0. 0. 0. 0. 0. 0. 0. 0.\n",
            "  0. 0. 0. 0. 0. 0. 0. 0. 0. 0. 0. 0. 0. 0. 0. 0.]\n",
            " [0. 0. 0. 0. 0. 0. 0. 0. 0. 0. 0. 0. 0. 0. 0. 0. 0. 0. 0. 0. 0. 0. 0. 0.\n",
            "  0. 0. 0. 0. 0. 0. 0. 0. 0. 0. 0. 0. 0. 0. 0. 0.]]\n"
          ]
        }
      ],
      "source": [
        "np.set_printoptions(threshold=float(\"inf\"))\n",
        "x=np.zeros((40,40))\n",
        "print(x)"
      ]
    },
    {
      "cell_type": "markdown",
      "metadata": {
        "id": "Z1eD_r1eilxY"
      },
      "source": [
        "#### 50. How to find the closest value (to a given scalar) in a vector? (★★☆) \n",
        "(**hint**: argmin)"
      ]
    },
    {
      "cell_type": "code",
      "execution_count": 48,
      "metadata": {
        "id": "exgbZDDJilxY",
        "colab": {
          "base_uri": "https://localhost:8080/"
        },
        "outputId": "5921b3e0-58b4-455f-c856-b77b90d35731"
      },
      "outputs": [
        {
          "output_type": "stream",
          "name": "stdout",
          "text": [
            "23\n"
          ]
        }
      ],
      "source": [
        "x=np.arange(100)\n",
        "v=np.random.uniform(0,100)\n",
        "index = (np.abs(x-v)).argmin()\n",
        "print(x[index])"
      ]
    },
    {
      "cell_type": "markdown",
      "metadata": {
        "id": "e0vEqqKnilxZ"
      },
      "source": [
        "#### 51. Create a structured array representing a position (x,y) and a color (r,g,b) (★★☆) \n",
        "(**hint**: dtype)"
      ]
    },
    {
      "cell_type": "code",
      "execution_count": 49,
      "metadata": {
        "id": "iJcrKPV5ilxZ",
        "colab": {
          "base_uri": "https://localhost:8080/"
        },
        "outputId": "877cf1b3-a54f-46f9-8c0c-0ddf9e67cf10"
      },
      "outputs": [
        {
          "output_type": "stream",
          "name": "stdout",
          "text": [
            "[((0., 0.), (0., 0., 0.)) ((0., 0.), (0., 0., 0.))\n",
            " ((0., 0.), (0., 0., 0.)) ((0., 0.), (0., 0., 0.))\n",
            " ((0., 0.), (0., 0., 0.)) ((0., 0.), (0., 0., 0.))\n",
            " ((0., 0.), (0., 0., 0.)) ((0., 0.), (0., 0., 0.))\n",
            " ((0., 0.), (0., 0., 0.)) ((0., 0.), (0., 0., 0.))]\n"
          ]
        }
      ],
      "source": [
        "z= np.zeros(10, [ ('position', [ ('x', float),\n",
        "                                  ('y', float)]),\n",
        "                   ('color',    [ ('r', float),\n",
        "                                  ('g', float),\n",
        "                                  ('b', float)])])\n",
        "print(z)"
      ]
    },
    {
      "cell_type": "markdown",
      "metadata": {
        "id": "LUcZqFNiilxZ"
      },
      "source": [
        "#### 52. Consider a random vector with shape (100,2) representing coordinates, find point by point distances (★★☆) \n",
        "(**hint**: np.atleast\\_2d, T, np.sqrt)"
      ]
    },
    {
      "cell_type": "code",
      "execution_count": 50,
      "metadata": {
        "id": "jjRFVdtvilxa",
        "colab": {
          "base_uri": "https://localhost:8080/"
        },
        "outputId": "4c10f663-ba4b-45a5-9d2c-889a81ddc335"
      },
      "outputs": [
        {
          "output_type": "stream",
          "name": "stdout",
          "text": [
            "[[0.         0.169685   0.8678309  0.08177101 0.23490499 0.16199634\n",
            "  0.18555733 0.5365138  0.26396499 0.71982365]\n",
            " [0.169685   0.         0.93484555 0.24012328 0.20015499 0.16307794\n",
            "  0.1429135  0.69066539 0.35104121 0.88903467]\n",
            " [0.8678309  0.93484555 0.         0.80209066 0.7451298  0.77216659\n",
            "  1.03940662 0.60491652 1.09613574 0.8853151 ]\n",
            " [0.08177101 0.24012328 0.80209066 0.         0.24394566 0.17394723\n",
            "  0.26642255 0.45584745 0.30292211 0.65207041]\n",
            " [0.23490499 0.20015499 0.7451298  0.24394566 0.         0.07331699\n",
            "  0.33218379 0.60475079 0.49316356 0.85763191]\n",
            " [0.16199634 0.16307794 0.77216659 0.17394723 0.07331699 0.\n",
            "  0.27798298 0.56821934 0.42247689 0.80502051]\n",
            " [0.18555733 0.1429135  1.03940662 0.26642255 0.33218379 0.27798298\n",
            "  0.         0.71457923 0.2312002  0.86589809]\n",
            " [0.5365138  0.69066539 0.60491652 0.45584745 0.60475079 0.56821934\n",
            "  0.71457923 0.         0.64609684 0.31247946]\n",
            " [0.26396499 0.35104121 1.09613574 0.30292211 0.49316356 0.42247689\n",
            "  0.2312002  0.64609684 0.         0.71656674]\n",
            " [0.71982365 0.88903467 0.8853151  0.65207041 0.85763191 0.80502051\n",
            "  0.86589809 0.31247946 0.71656674 0.        ]]\n"
          ]
        }
      ],
      "source": [
        "Z = np.random.random((10,2))\n",
        "X,Y = np.atleast_2d(Z[:,0], Z[:,1])\n",
        "D = np.sqrt( (X-X.T)**2 + (Y-Y.T)**2)\n",
        "print(D)"
      ]
    },
    {
      "cell_type": "markdown",
      "metadata": {
        "id": "D8qMGgBfilxa"
      },
      "source": [
        "*italicized text*#### 53. How to convert a float (32 bits) array into an integer (32 bits) in place? \n",
        "(**hint**: astype(copy=False))"
      ]
    },
    {
      "cell_type": "code",
      "execution_count": 51,
      "metadata": {
        "id": "uhd2QTL5ilxa",
        "colab": {
          "base_uri": "https://localhost:8080/"
        },
        "outputId": "22936863-3ca5-4051-8862-c45896b78f73"
      },
      "outputs": [
        {
          "output_type": "execute_result",
          "data": {
            "text/plain": [
              "array([0., 1., 2., 3., 4., 5., 6., 7., 8., 9.], dtype=float32)"
            ]
          },
          "metadata": {},
          "execution_count": 51
        }
      ],
      "source": [
        "x= np.arange(10, dtype=np.int32)\n",
        "x=x.astype(np.float32, copy=False)\n",
        "x"
      ]
    },
    {
      "cell_type": "markdown",
      "metadata": {
        "id": "vI-QwSTEilxb"
      },
      "source": [
        "#### 54. How to read the following file? (★★☆) \n",
        "(**hint**: np.genfromtxt)"
      ]
    },
    {
      "cell_type": "markdown",
      "metadata": {
        "id": "PLrd6ZySilxb"
      },
      "source": [
        "```\n",
        "1, 2, 3, 4, 5\n",
        "6,  ,  , 7, 8\n",
        " ,  , 9,10,11\n",
        "```"
      ]
    },
    {
      "cell_type": "code",
      "execution_count": 53,
      "metadata": {
        "id": "3BZAviP0ilxb",
        "colab": {
          "base_uri": "https://localhost:8080/"
        },
        "outputId": "096a3699-d62d-4b3e-d7c2-51279dd5ca0b"
      },
      "outputs": [
        {
          "output_type": "stream",
          "name": "stdout",
          "text": [
            "[[ 1  2  3  4  5]\n",
            " [ 6 -1 -1  7  8]\n",
            " [-1 -1  9 10 11]]\n"
          ]
        },
        {
          "output_type": "stream",
          "name": "stderr",
          "text": [
            "/usr/local/lib/python3.7/dist-packages/ipykernel_launcher.py:8: DeprecationWarning: `np.int` is a deprecated alias for the builtin `int`. To silence this warning, use `int` by itself. Doing this will not modify any behavior and is safe. When replacing `np.int`, you may wish to use e.g. `np.int64` or `np.int32` to specify the precision. If you wish to review your current use, check the release note link for additional information.\n",
            "Deprecated in NumPy 1.20; for more details and guidance: https://numpy.org/devdocs/release/1.20.0-notes.html#deprecations\n",
            "  \n"
          ]
        }
      ],
      "source": [
        "from io import StringIO\n",
        "\n",
        "# Fake file\n",
        "s = StringIO('''1, 2, 3, 4, 5\n",
        "                6,  ,  , 7, 8\n",
        "                 ,  , 9,10,11\n",
        "''')\n",
        "x=np.genfromtxt(s, delimiter=\",\", dtype=np.int)\n",
        "print(x)"
      ]
    },
    {
      "cell_type": "markdown",
      "metadata": {
        "id": "O--wSeUNilxc"
      },
      "source": [
        "#### 55. What is the equivalent of enumerate for numpy arrays? (★★☆) \n",
        "(**hint**: np.ndenumerate, np.ndindex)"
      ]
    },
    {
      "cell_type": "code",
      "execution_count": 54,
      "metadata": {
        "id": "pvKBYGhlilxc",
        "colab": {
          "base_uri": "https://localhost:8080/"
        },
        "outputId": "9735c92f-154e-4646-addc-895c6db36ee4"
      },
      "outputs": [
        {
          "output_type": "stream",
          "name": "stdout",
          "text": [
            "(0, 0) 0\n",
            "(0, 1) 1\n",
            "(0, 2) 2\n",
            "(1, 0) 3\n",
            "(1, 1) 4\n",
            "(1, 2) 5\n",
            "(2, 0) 6\n",
            "(2, 1) 7\n",
            "(2, 2) 8\n",
            "(0, 0) 0\n",
            "(0, 1) 1\n",
            "(0, 2) 2\n",
            "(1, 0) 3\n",
            "(1, 1) 4\n",
            "(1, 2) 5\n",
            "(2, 0) 6\n",
            "(2, 1) 7\n",
            "(2, 2) 8\n"
          ]
        }
      ],
      "source": [
        "x=np.arange(9).reshape(3,3)\n",
        "for index, value in np.ndenumerate(x):\n",
        "    print(index, value)\n",
        "for index in np.ndindex(x.shape):\n",
        "    print(index, x[index])"
      ]
    },
    {
      "cell_type": "markdown",
      "metadata": {
        "id": "MWLT1J3wilxd"
      },
      "source": [
        "#### 56. Generate a generic 2D Gaussian-like array (★★☆) \n",
        "(**hint**: np.meshgrid, np.exp)"
      ]
    },
    {
      "cell_type": "code",
      "execution_count": 55,
      "metadata": {
        "id": "PWjxk0E8ilxd",
        "colab": {
          "base_uri": "https://localhost:8080/"
        },
        "outputId": "e086cb96-0821-4da9-e653-c39d7736db86"
      },
      "outputs": [
        {
          "output_type": "stream",
          "name": "stdout",
          "text": [
            "[[0.36787944 0.44822088 0.51979489 0.57375342 0.60279818 0.60279818\n",
            "  0.57375342 0.51979489 0.44822088 0.36787944]\n",
            " [0.44822088 0.54610814 0.63331324 0.69905581 0.73444367 0.73444367\n",
            "  0.69905581 0.63331324 0.54610814 0.44822088]\n",
            " [0.51979489 0.63331324 0.73444367 0.81068432 0.85172308 0.85172308\n",
            "  0.81068432 0.73444367 0.63331324 0.51979489]\n",
            " [0.57375342 0.69905581 0.81068432 0.89483932 0.9401382  0.9401382\n",
            "  0.89483932 0.81068432 0.69905581 0.57375342]\n",
            " [0.60279818 0.73444367 0.85172308 0.9401382  0.98773022 0.98773022\n",
            "  0.9401382  0.85172308 0.73444367 0.60279818]\n",
            " [0.60279818 0.73444367 0.85172308 0.9401382  0.98773022 0.98773022\n",
            "  0.9401382  0.85172308 0.73444367 0.60279818]\n",
            " [0.57375342 0.69905581 0.81068432 0.89483932 0.9401382  0.9401382\n",
            "  0.89483932 0.81068432 0.69905581 0.57375342]\n",
            " [0.51979489 0.63331324 0.73444367 0.81068432 0.85172308 0.85172308\n",
            "  0.81068432 0.73444367 0.63331324 0.51979489]\n",
            " [0.44822088 0.54610814 0.63331324 0.69905581 0.73444367 0.73444367\n",
            "  0.69905581 0.63331324 0.54610814 0.44822088]\n",
            " [0.36787944 0.44822088 0.51979489 0.57375342 0.60279818 0.60279818\n",
            "  0.57375342 0.51979489 0.44822088 0.36787944]]\n"
          ]
        }
      ],
      "source": [
        "x,y=np.meshgrid(np.linspace(-1,1,10),np.linspace(-1,1,10))\n",
        "D = np.sqrt(x*x+y*y)\n",
        "sigma, mu = 1.0, 0.0\n",
        "G = np.exp(-( (D-mu)**2 / ( 2.0 * sigma**2 ) ) )\n",
        "print(G)"
      ]
    },
    {
      "cell_type": "markdown",
      "metadata": {
        "id": "z6hJ8Y3Filxd"
      },
      "source": [
        "#### 57. How to randomly place p elements in a 2D array? (★★☆) \n",
        "(**hint**: np.put, np.random.choice)"
      ]
    },
    {
      "cell_type": "code",
      "execution_count": 56,
      "metadata": {
        "id": "-TVwEeMtilxe",
        "colab": {
          "base_uri": "https://localhost:8080/"
        },
        "outputId": "23b46a53-1318-4b99-e761-195f527c0a8e"
      },
      "outputs": [
        {
          "output_type": "stream",
          "name": "stdout",
          "text": [
            "[[0. 0. 0. 0. 0. 0. 0. 0. 0. 0.]\n",
            " [0. 0. 0. 0. 0. 0. 0. 0. 0. 0.]\n",
            " [0. 0. 0. 0. 0. 0. 0. 0. 0. 0.]\n",
            " [0. 0. 0. 0. 0. 0. 0. 0. 0. 0.]\n",
            " [1. 0. 0. 0. 0. 0. 0. 0. 0. 0.]\n",
            " [0. 0. 0. 0. 0. 0. 0. 0. 0. 0.]\n",
            " [0. 0. 0. 0. 0. 0. 0. 0. 0. 0.]\n",
            " [0. 0. 0. 0. 0. 0. 0. 0. 0. 0.]\n",
            " [0. 1. 0. 0. 0. 0. 0. 1. 0. 0.]\n",
            " [0. 0. 0. 0. 0. 0. 0. 0. 0. 0.]]\n"
          ]
        }
      ],
      "source": [
        "n = 10\n",
        "p = 3\n",
        "x = np.zeros((n,n))\n",
        "np.put(x, np.random.choice(range(n*n), p, replace=False),1)\n",
        "print(x)"
      ]
    },
    {
      "cell_type": "markdown",
      "metadata": {
        "id": "N_UtpHBpilxe"
      },
      "source": [
        "#### 58. Subtract the mean of each row of a matrix (★★☆) \n",
        "(**hint**: mean(axis=,keepdims=))"
      ]
    },
    {
      "cell_type": "code",
      "execution_count": 57,
      "metadata": {
        "id": "MO_PxiDNilxe",
        "colab": {
          "base_uri": "https://localhost:8080/"
        },
        "outputId": "d7fcb1cf-d848-4e00-99b1-36366e3cc830"
      },
      "outputs": [
        {
          "output_type": "stream",
          "name": "stdout",
          "text": [
            "[[-0.50501529  0.27462807 -0.19861122 -0.11228662 -0.30373643  0.43635611\n",
            "   0.2999197   0.36137885  0.23020038 -0.48283355]\n",
            " [-0.38263808 -0.44468016  0.05572953  0.32709218 -0.28606836  0.0450615\n",
            "   0.32979982  0.17774115 -0.03652959  0.21449201]\n",
            " [ 0.05491058 -0.43396962 -0.35132786 -0.4105375  -0.10571184  0.33171069\n",
            "  -0.36825304  0.48154147  0.40617405  0.39546307]\n",
            " [ 0.22200301 -0.15257669 -0.35666748 -0.10978957  0.29216398  0.37046761\n",
            "   0.2368182  -0.47938436 -0.00897158 -0.01406312]\n",
            " [ 0.25736863  0.12457673 -0.07384266 -0.46049153  0.05482453 -0.26711551\n",
            "   0.43598494 -0.12708797  0.20416461 -0.14838178]]\n"
          ]
        },
        {
          "output_type": "execute_result",
          "data": {
            "text/plain": [
              "array([[ True],\n",
              "       [ True],\n",
              "       [ True],\n",
              "       [ True],\n",
              "       [ True]])"
            ]
          },
          "metadata": {},
          "execution_count": 57
        }
      ],
      "source": [
        "x=np.random.rand(5, 10)\n",
        "y=x-x.mean(axis = 1,keepdims = True)\n",
        "print(y)\n",
        "x.mean(axis = 1).reshape(-1,1) == x.mean(axis = 1,keepdims =True)"
      ]
    },
    {
      "cell_type": "markdown",
      "metadata": {
        "id": "BXg_HSgfilxe"
      },
      "source": [
        "#### 59. How to sort an array by the nth column? (★★☆) \n",
        "(**hint**: argsort)"
      ]
    },
    {
      "cell_type": "code",
      "execution_count": 58,
      "metadata": {
        "id": "XNLKrOIyilxg",
        "colab": {
          "base_uri": "https://localhost:8080/"
        },
        "outputId": "2ea69059-f614-4fdf-d677-de3c7d3b6508"
      },
      "outputs": [
        {
          "output_type": "stream",
          "name": "stdout",
          "text": [
            "[[4 0 2]\n",
            " [3 8 6]\n",
            " [0 2 4]]\n",
            "[[4 0 2]\n",
            " [0 2 4]\n",
            " [3 8 6]]\n"
          ]
        }
      ],
      "source": [
        "z=np.random.randint(0,10,(3,3))\n",
        "print(z)\n",
        "print(z[z[:,1].argsort()])"
      ]
    },
    {
      "cell_type": "markdown",
      "metadata": {
        "id": "HyG6fccVilxg"
      },
      "source": [
        "#### 60. How to tell if a given 2D array has null columns? (★★☆) \n",
        "(**hint**: any, ~)"
      ]
    },
    {
      "cell_type": "code",
      "execution_count": 59,
      "metadata": {
        "id": "ThSluznZilxh",
        "colab": {
          "base_uri": "https://localhost:8080/"
        },
        "outputId": "3ae14e14-4c2f-412d-8304-ccbd70fc57c0"
      },
      "outputs": [
        {
          "output_type": "stream",
          "name": "stdout",
          "text": [
            "False\n"
          ]
        }
      ],
      "source": [
        "z=np.random.randint(0,3,(3,10))\n",
        "print((~z.any(axis=0)).any())"
      ]
    },
    {
      "cell_type": "markdown",
      "metadata": {
        "id": "moF6nylLilxh"
      },
      "source": [
        "#### 61. Find the nearest value from a given value in an array (★★☆) \n",
        "(**hint**: np.abs, argmin, flat)"
      ]
    },
    {
      "cell_type": "code",
      "execution_count": 60,
      "metadata": {
        "id": "LjYQKlizilxh",
        "colab": {
          "base_uri": "https://localhost:8080/"
        },
        "outputId": "36716316-9f71-49e8-d78e-fd59659a8f26"
      },
      "outputs": [
        {
          "output_type": "stream",
          "name": "stdout",
          "text": [
            "0.5465006843544655\n"
          ]
        }
      ],
      "source": [
        "Z = np.random.uniform(0,1,10)\n",
        "z = 0.5\n",
        "m = Z.flat[np.abs(Z - z).argmin()]\n",
        "print(m)"
      ]
    },
    {
      "cell_type": "markdown",
      "metadata": {
        "id": "0e2tNZ0Gilxi"
      },
      "source": [
        "#### 62. Considering two arrays with shape (1,3) and (3,1), how to compute their sum using an iterator? (★★☆) \n",
        "(**hint**: np.nditer)"
      ]
    },
    {
      "cell_type": "code",
      "execution_count": 61,
      "metadata": {
        "id": "m94GfM2Nilxi",
        "colab": {
          "base_uri": "https://localhost:8080/"
        },
        "outputId": "aee5a04b-67cc-4825-cf8f-2f8f3eaa1cc7"
      },
      "outputs": [
        {
          "output_type": "stream",
          "name": "stdout",
          "text": [
            "[[0 1 2]\n",
            " [1 2 3]\n",
            " [2 3 4]]\n"
          ]
        }
      ],
      "source": [
        "A = np.arange(3).reshape(3,1)\n",
        "B = np.arange(3).reshape(1,3)\n",
        "it = np.nditer([A,B,None])\n",
        "for x,y,z in it: z[...] = x + y\n",
        "print(it.operands[2])"
      ]
    },
    {
      "cell_type": "markdown",
      "metadata": {
        "id": "a4OaQJxlilxi"
      },
      "source": [
        "#### 63. Create an array class that has a name attribute (★★☆) \n",
        "(**hint**: class method)"
      ]
    },
    {
      "cell_type": "code",
      "execution_count": 62,
      "metadata": {
        "id": "A-OayA4ailxi",
        "colab": {
          "base_uri": "https://localhost:8080/"
        },
        "outputId": "af982c25-39ac-4fd3-bee4-7f6659479cc5"
      },
      "outputs": [
        {
          "output_type": "stream",
          "name": "stdout",
          "text": [
            "range_10\n"
          ]
        }
      ],
      "source": [
        "class NamedArray(np.ndarray):\n",
        "    def __new__(cls, array, name=\"no name\"):\n",
        "        obj = np.asarray(array).view(cls)\n",
        "        obj.name = name\n",
        "        return obj\n",
        "    def __array_finalize__(self, obj):\n",
        "        if obj is None: return\n",
        "        self.info = getattr(obj, 'name', \"no name\")\n",
        "\n",
        "Z=NamedArray(np.arange(10), \"range_10\")\n",
        "print(Z.name)"
      ]
    },
    {
      "cell_type": "markdown",
      "metadata": {
        "id": "MnuQ4Emfilxj"
      },
      "source": [
        "#### 64. Consider a given vector, how to add 1 to each element indexed by a second vector (be careful with repeated indices)? (★★★) \n",
        "(**hint**: np.bincount | np.add.at)"
      ]
    },
    {
      "cell_type": "code",
      "execution_count": 63,
      "metadata": {
        "id": "7fs4hGQzilxj",
        "colab": {
          "base_uri": "https://localhost:8080/"
        },
        "outputId": "043816f1-2c67-497f-970c-9c26ed56645a"
      },
      "outputs": [
        {
          "output_type": "stream",
          "name": "stdout",
          "text": [
            "[2. 3. 3. 5. 5. 1. 4. 2. 3. 2.]\n",
            "[3. 5. 5. 9. 9. 1. 7. 3. 5. 3.]\n"
          ]
        }
      ],
      "source": [
        "Z = np.ones(10)\n",
        "I = np.random.randint(0,len(Z),20)\n",
        "Z += np.bincount(I, minlength=len(Z))\n",
        "print(Z)\n",
        "# Another solution\n",
        "np.add.at(Z, I, 1)\n",
        "print(Z)"
      ]
    },
    {
      "cell_type": "markdown",
      "metadata": {
        "id": "KqWBJbzpilxj"
      },
      "source": [
        "#### 65. How to accumulate elements of a vector (X) to an array (F) based on an index list (I)? (★★★) \n",
        "(**hint**: np.bincount)"
      ]
    },
    {
      "cell_type": "code",
      "execution_count": 64,
      "metadata": {
        "id": "6frYGZlDilxk",
        "colab": {
          "base_uri": "https://localhost:8080/"
        },
        "outputId": "ac6d7f6f-fa12-4541-a919-89e5323bebc1"
      },
      "outputs": [
        {
          "output_type": "stream",
          "name": "stdout",
          "text": [
            "[0. 7. 0. 6. 5. 0. 0. 0. 0. 3.]\n"
          ]
        }
      ],
      "source": [
        "X = [1,2,3,4,5,6]\n",
        "I = [1,3,9,3,4,1]\n",
        "F = np.bincount(I,X)\n",
        "print(F)"
      ]
    },
    {
      "cell_type": "markdown",
      "metadata": {
        "id": "F3b8B_cQilxk"
      },
      "source": [
        "#### 66. Considering a (w,h,3) image of (dtype=ubyte), compute the number of unique colors (★★★) \n",
        "(**hint**: np.unique)"
      ]
    },
    {
      "cell_type": "code",
      "execution_count": 65,
      "metadata": {
        "id": "MFj-MB-lilxk",
        "colab": {
          "base_uri": "https://localhost:8080/"
        },
        "outputId": "5d089230-9078-4b2a-9a13-1ca782dd4865"
      },
      "outputs": [
        {
          "output_type": "stream",
          "name": "stdout",
          "text": [
            "64\n"
          ]
        }
      ],
      "source": [
        "w, h = 256, 256\n",
        "I = np.random.randint(0, 4, (h, w, 3)).astype(np.ubyte)\n",
        "colors = np.unique(I.reshape(-1, 3), axis=0)\n",
        "n = len(colors)\n",
        "print(n)\n",
        "# Faster version\n",
        "w, h = 256, 256\n",
        "I = np.random.randint(0,4,(h,w,3), dtype=np.uint8)"
      ]
    },
    {
      "cell_type": "markdown",
      "metadata": {
        "id": "TDkcfQdpilxl"
      },
      "source": [
        "#### 67. Considering a four dimensions array, how to get sum over the last two axis at once? (★★★) \n",
        "(**hint**: sum(axis=(-2,-1)))"
      ]
    },
    {
      "cell_type": "code",
      "execution_count": 66,
      "metadata": {
        "id": "m58fAPdIilxl",
        "colab": {
          "base_uri": "https://localhost:8080/"
        },
        "outputId": "24fe5d13-3b53-4df1-e545-9ad6ca26a38a"
      },
      "outputs": [
        {
          "output_type": "stream",
          "name": "stdout",
          "text": [
            "3\n",
            "3\n"
          ]
        }
      ],
      "source": [
        "# solution by passing a tuple of axes\n",
        "sum = A.sum(axis=(-2,-1))\n",
        "print(sum)\n",
        "# solution by flattening the last two dimensions into one\n",
        "# (useful for functions that don't accept tuples for axis argument)\n",
        "sum = A.reshape(A.shape[:-2] + (-1,)).sum(axis=-1)\n",
        "print(sum)"
      ]
    },
    {
      "cell_type": "markdown",
      "metadata": {
        "id": "iFO9eUkRilxl"
      },
      "source": [
        "#### 68. Considering a one-dimensional vector D, how to compute means of subsets of D using a vector S of same size describing subset  indices? (★★★) \n",
        "(**hint**: np.bincount)"
      ]
    },
    {
      "cell_type": "code",
      "execution_count": 67,
      "metadata": {
        "id": "iZRZVyEPilxm",
        "colab": {
          "base_uri": "https://localhost:8080/"
        },
        "outputId": "4ecae9a4-620b-4fa7-b1d7-56cfcc4c43e6"
      },
      "outputs": [
        {
          "output_type": "stream",
          "name": "stdout",
          "text": [
            "[0.54265979 0.49013107 0.35699006 0.57374265 0.68639151 0.46089479\n",
            " 0.65915474 0.57768551 0.56698022 0.52567633]\n"
          ]
        }
      ],
      "source": [
        "D = np.random.uniform(0,1,100)\n",
        "S = np.random.randint(0,10,100)\n",
        "D_sums = np.bincount(S, weights=D)\n",
        "D_counts = np.bincount(S)\n",
        "D_means = D_sums / D_counts\n",
        "print(D_means)"
      ]
    },
    {
      "cell_type": "markdown",
      "metadata": {
        "id": "wIG3PPcmilxn"
      },
      "source": [
        "#### 69. How to get the diagonal of a dot product? (★★★) \n",
        "(**hint**: np.diag)"
      ]
    },
    {
      "cell_type": "code",
      "execution_count": 68,
      "metadata": {
        "id": "3nkZE4Gsilxn",
        "colab": {
          "base_uri": "https://localhost:8080/"
        },
        "outputId": "0ecba52f-e214-424b-861f-dc9ee9e359b8"
      },
      "outputs": [
        {
          "output_type": "execute_result",
          "data": {
            "text/plain": [
              "array([0.4116455 , 1.48475936, 0.82358947, 0.61152144, 0.8587793 ])"
            ]
          },
          "metadata": {},
          "execution_count": 68
        }
      ],
      "source": [
        "A = np.random.uniform(0,1,(5,5))\n",
        "B = np.random.uniform(0,1,(5,5))\n",
        "np.diag(np.dot(A, B))"
      ]
    },
    {
      "cell_type": "markdown",
      "metadata": {
        "id": "8Tm1J18Nilxn"
      },
      "source": [
        "#### 70. Consider the vector \\[1, 2, 3, 4, 5\\], how to build a new vector with 3 consecutive zeros interleaved between each value? (★★★) \n",
        "(**hint**: array\\[::4\\])"
      ]
    },
    {
      "cell_type": "code",
      "execution_count": 69,
      "metadata": {
        "id": "VY4xvL7pilxo",
        "colab": {
          "base_uri": "https://localhost:8080/"
        },
        "outputId": "f897fab4-c2ce-4175-bcba-dfa8ab36839b"
      },
      "outputs": [
        {
          "output_type": "stream",
          "name": "stdout",
          "text": [
            "[1. 0. 0. 0. 2. 0. 0. 0. 3. 0. 0. 0. 4. 0. 0. 0. 5.]\n"
          ]
        }
      ],
      "source": [
        "Z = np.array([1,2,3,4,5])\n",
        "nz = 3\n",
        "Z0 = np.zeros(len(Z) + (len(Z)-1)*(nz))\n",
        "Z0[::nz+1] = Z\n",
        "print(Z0)"
      ]
    },
    {
      "cell_type": "markdown",
      "metadata": {
        "id": "glfUcK3zilxo"
      },
      "source": [
        "#### 71. Consider an array of dimension (5,5,3), how to mulitply it by an array with dimensions (5,5)? (★★★) \n",
        "(**hint**: array\\[:, :, None\\])"
      ]
    },
    {
      "cell_type": "code",
      "execution_count": 70,
      "metadata": {
        "collapsed": true,
        "id": "UdeuD4p6ilxo",
        "colab": {
          "base_uri": "https://localhost:8080/"
        },
        "outputId": "892eef44-4059-4011-be4d-1a8b2208748b"
      },
      "outputs": [
        {
          "output_type": "stream",
          "name": "stdout",
          "text": [
            "[[[2. 2. 2.]\n",
            "  [2. 2. 2.]\n",
            "  [2. 2. 2.]\n",
            "  [2. 2. 2.]\n",
            "  [2. 2. 2.]]\n",
            "\n",
            " [[2. 2. 2.]\n",
            "  [2. 2. 2.]\n",
            "  [2. 2. 2.]\n",
            "  [2. 2. 2.]\n",
            "  [2. 2. 2.]]\n",
            "\n",
            " [[2. 2. 2.]\n",
            "  [2. 2. 2.]\n",
            "  [2. 2. 2.]\n",
            "  [2. 2. 2.]\n",
            "  [2. 2. 2.]]\n",
            "\n",
            " [[2. 2. 2.]\n",
            "  [2. 2. 2.]\n",
            "  [2. 2. 2.]\n",
            "  [2. 2. 2.]\n",
            "  [2. 2. 2.]]\n",
            "\n",
            " [[2. 2. 2.]\n",
            "  [2. 2. 2.]\n",
            "  [2. 2. 2.]\n",
            "  [2. 2. 2.]\n",
            "  [2. 2. 2.]]]\n"
          ]
        }
      ],
      "source": [
        "A = np.ones((5,5,3))\n",
        "B = 2*np.ones((5,5))\n",
        "print(A * B[:,:,None])"
      ]
    },
    {
      "cell_type": "markdown",
      "metadata": {
        "id": "2cfC_srrilxp"
      },
      "source": [
        "#### 72. How to swap two rows of an array? (★★★) \n",
        "(**hint**: array\\[\\[\\]\\] = array\\[\\[\\]\\])"
      ]
    },
    {
      "cell_type": "code",
      "execution_count": 71,
      "metadata": {
        "id": "TwlDbyZWilxr",
        "colab": {
          "base_uri": "https://localhost:8080/"
        },
        "outputId": "bcdc6558-7159-4eec-d754-53693b682f7d"
      },
      "outputs": [
        {
          "output_type": "stream",
          "name": "stdout",
          "text": [
            "[[ 5  6  7  8  9]\n",
            " [ 0  1  2  3  4]\n",
            " [10 11 12 13 14]\n",
            " [15 16 17 18 19]\n",
            " [20 21 22 23 24]]\n"
          ]
        }
      ],
      "source": [
        "A = np.arange(25).reshape(5,5)\n",
        "A[[0,1]] = A[[1,0]]\n",
        "print(A)"
      ]
    },
    {
      "cell_type": "markdown",
      "metadata": {
        "id": "pwWnItezilxt"
      },
      "source": [
        "#### 73. Consider a set of 10 triplets describing 10 triangles (with shared vertices), find the set of unique line segments composing all the  triangles (★★★) \n",
        "(**hint**: repeat, np.roll, np.sort, view, np.unique)"
      ]
    },
    {
      "cell_type": "code",
      "execution_count": 72,
      "metadata": {
        "id": "OyGRyGbfilxt",
        "colab": {
          "base_uri": "https://localhost:8080/"
        },
        "outputId": "8221706b-979c-437b-87cf-99ead089ce44"
      },
      "outputs": [
        {
          "output_type": "stream",
          "name": "stdout",
          "text": [
            "[( 1, 18) ( 1, 32) ( 2, 28) ( 2, 56) ( 6, 44) ( 6, 51) (10, 30) (10, 35)\n",
            " (10, 79) (10, 89) (14, 19) (14, 45) (14, 52) (14, 93) (18, 32) (19, 45)\n",
            " (19, 52) (19, 58) (28, 56) (30, 79) (31, 42) (31, 64) (35, 89) (42, 64)\n",
            " (44, 51) (52, 58) (52, 93) (54, 57) (54, 84) (57, 84)]\n"
          ]
        }
      ],
      "source": [
        "faces = np.random.randint(0,100,(10,3))\n",
        "F = np.roll(faces.repeat(2,axis=1),-1,axis=1)\n",
        "F = F.reshape(len(F)*3,2)\n",
        "F = np.sort(F,axis=1)\n",
        "G = F.view( dtype=[('p0',F.dtype),('p1',F.dtype)] )\n",
        "G = np.unique(G)\n",
        "print(G)"
      ]
    },
    {
      "cell_type": "markdown",
      "metadata": {
        "id": "c8OFSliXilxt"
      },
      "source": [
        "#### 74. Given an array C that is a bincount, how to produce an array A such that np.bincount(A) == C? (★★★) \n",
        "(**hint**: np.repeat)"
      ]
    },
    {
      "cell_type": "code",
      "execution_count": 73,
      "metadata": {
        "id": "nSVPFf3Oilxu",
        "colab": {
          "base_uri": "https://localhost:8080/"
        },
        "outputId": "7aa490d3-81bd-47ce-bd97-abd0c5ccfcc3"
      },
      "outputs": [
        {
          "output_type": "stream",
          "name": "stdout",
          "text": [
            "[1 1 2 3 4 4 6]\n"
          ]
        }
      ],
      "source": [
        "\n",
        "C = np.bincount([1,1,2,3,4,4,6])\n",
        "A = np.repeat(np.arange(len(C)), C)\n",
        "print(A)"
      ]
    },
    {
      "cell_type": "markdown",
      "metadata": {
        "id": "JVg-lCJGilxu"
      },
      "source": [
        "#### 75. How to compute averages using a sliding window over an array? (★★★) \n",
        "(**hint**: np.cumsum)"
      ]
    },
    {
      "cell_type": "code",
      "execution_count": 74,
      "metadata": {
        "id": "tN6JufNcilxx",
        "colab": {
          "base_uri": "https://localhost:8080/"
        },
        "outputId": "3f0a16c6-bd54-44ba-8333-a7cd302e15bd"
      },
      "outputs": [
        {
          "output_type": "stream",
          "name": "stdout",
          "text": [
            "[ 1.  2.  3.  4.  5.  6.  7.  8.  9. 10. 11. 12. 13. 14. 15. 16. 17. 18.]\n"
          ]
        }
      ],
      "source": [
        "def moving_average(a, n=3) :\n",
        "    ret = np.cumsum(a, dtype=float)\n",
        "    ret[n:] = ret[n:] - ret[:-n]\n",
        "    return ret[n - 1:] / n\n",
        "Z = np.arange(20)\n",
        "print(moving_average(Z, n=3))"
      ]
    },
    {
      "cell_type": "markdown",
      "metadata": {
        "id": "__ylvpXUilxx"
      },
      "source": [
        "#### 76. Consider a one-dimensional array Z, build a two-dimensional array whose first row is (Z\\[0\\],Z\\[1\\],Z\\[2\\]) and each subsequent row is  shifted by 1 (last row should be (Z\\[-3\\],Z\\[-2\\],Z\\[-1\\]) (★★★) \n",
        "(**hint**: from numpy.lib import stride_tricks)"
      ]
    },
    {
      "cell_type": "code",
      "execution_count": 75,
      "metadata": {
        "id": "pRUxL74wilxy",
        "colab": {
          "base_uri": "https://localhost:8080/"
        },
        "outputId": "769ffd78-cdb7-4990-91fe-8adcb00dd27f"
      },
      "outputs": [
        {
          "output_type": "stream",
          "name": "stdout",
          "text": [
            "[[0 1 2]\n",
            " [1 2 3]\n",
            " [2 3 4]\n",
            " [3 4 5]\n",
            " [4 5 6]\n",
            " [5 6 7]\n",
            " [6 7 8]\n",
            " [7 8 9]]\n"
          ]
        }
      ],
      "source": [
        "from numpy.lib import stride_tricks\n",
        "\n",
        "def rolling(a, window):\n",
        "    shape = (a.size - window + 1, window)\n",
        "    strides = (a.strides[0], a.strides[0])\n",
        "    return stride_tricks.as_strided(a, shape=shape, strides=strides)\n",
        "Z = rolling(np.arange(10), 3)\n",
        "print(Z)"
      ]
    },
    {
      "cell_type": "markdown",
      "metadata": {
        "id": "VaCeSD50ilxy"
      },
      "source": [
        "#### 77. How to negate a boolean, or to change the sign of a float inplace? (★★★) \n",
        "(**hint**: np.logical_not, np.negative)"
      ]
    },
    {
      "cell_type": "code",
      "execution_count": 76,
      "metadata": {
        "id": "YUvxMk9zilxz",
        "colab": {
          "base_uri": "https://localhost:8080/"
        },
        "outputId": "85d2dc79-3f81-4c30-a9ba-d04cbd2aaf4f"
      },
      "outputs": [
        {
          "output_type": "execute_result",
          "data": {
            "text/plain": [
              "array([ 0.47569262,  0.00624395, -0.74208699,  0.00976009, -0.91908939,\n",
              "        0.7318638 ,  0.21056793,  0.42886951,  0.84156638, -0.98928551,\n",
              "       -0.81710739,  0.20462889, -0.18052839, -0.73857761,  0.65177886,\n",
              "        0.54662899,  0.07803959,  0.58518846,  0.9333566 , -0.74345216,\n",
              "       -0.12880505, -0.07003861, -0.68321497, -0.619648  , -0.93333194,\n",
              "        0.09410523,  0.02807598, -0.45805388,  0.16410765, -0.65175158,\n",
              "       -0.84496161,  0.34342252,  0.45321884,  0.15878593, -0.06627208,\n",
              "        0.24891804, -0.85633866, -0.17128191,  0.39288348, -0.09151871,\n",
              "       -0.30709178, -0.81430152, -0.09010691,  0.00132598, -0.80251858,\n",
              "       -0.36256507, -0.12270556,  0.29210944, -0.70700182, -0.44984161,\n",
              "       -0.68303677, -0.90961275,  0.22052056, -0.16590966, -0.42793576,\n",
              "        0.0947386 ,  0.44926912,  0.31055109,  0.54745964, -0.93522643,\n",
              "       -0.62824631, -0.91434902,  0.64498265,  0.59071418, -0.78309482,\n",
              "       -0.61506293,  0.76445256, -0.25345839, -0.38790545,  0.94427188,\n",
              "       -0.11713809,  0.07916366, -0.47075391, -0.80469492,  0.89249312,\n",
              "        0.05517007,  0.24098568,  0.46051762, -0.94023761, -0.01125625,\n",
              "       -0.92041599, -0.41424163,  0.84845144, -0.66522876,  0.75568385,\n",
              "        0.01179274, -0.79017678, -0.81817276, -0.72219465, -0.3082943 ,\n",
              "       -0.0895735 , -0.88661292,  0.76945912,  0.74614508,  0.10101168,\n",
              "        0.40337503,  0.14896652, -0.21587446, -0.60441939,  0.78159724])"
            ]
          },
          "metadata": {},
          "execution_count": 76
        }
      ],
      "source": [
        "Z = np.random.randint(0,2,100)\n",
        "np.logical_not(Z, out=Z)\n",
        "Z = np.random.uniform(-1.0,1.0,100)\n",
        "np.negative(Z, out=Z)"
      ]
    },
    {
      "cell_type": "markdown",
      "metadata": {
        "id": "r3tKF5EJilx0"
      },
      "source": [
        "#### 78. Consider 2 sets of points P0,P1 describing lines (2d) and a point p, how to compute distance from p to each line i  (P0\\[i\\],P1\\[i\\])? (★★★)"
      ]
    },
    {
      "cell_type": "code",
      "execution_count": 77,
      "metadata": {
        "id": "QFvary8Pilx0",
        "colab": {
          "base_uri": "https://localhost:8080/"
        },
        "outputId": "764fb9bf-fa6b-4ff1-cb95-90700cabd171"
      },
      "outputs": [
        {
          "output_type": "stream",
          "name": "stdout",
          "text": [
            "[ 6.989718   10.33402958  2.92692075  4.27623859  7.86956346  5.37116461\n",
            "  9.90819443 11.3572805   4.41642123  7.26531754]\n"
          ]
        }
      ],
      "source": [
        "def distance(P0, P1, p):\n",
        "    T = P1 - P0\n",
        "    L = (T**2).sum(axis=1)\n",
        "    U = -((P0[:,0]-p[...,0])*T[:,0] + (P0[:,1]-p[...,1])*T[:,1]) / L\n",
        "    U = U.reshape(len(U),1)\n",
        "    D = P0 + U*T - p\n",
        "    return np.sqrt((D**2).sum(axis=1))\n",
        "\n",
        "P0 = np.random.uniform(-10,10,(10,2))\n",
        "P1 = np.random.uniform(-10,10,(10,2))\n",
        "p  = np.random.uniform(-10,10,( 1,2))\n",
        "print(distance(P0, P1, p))"
      ]
    },
    {
      "cell_type": "markdown",
      "metadata": {
        "id": "52osiGR6ilx0"
      },
      "source": [
        "#### 79. Consider 2 sets of points P0,P1 describing lines (2d) and a set of points P, how to compute distance from each point j (P\\[j\\]) to each line i (P0\\[i\\],P1\\[i\\])? (★★★)"
      ]
    },
    {
      "cell_type": "code",
      "execution_count": 78,
      "metadata": {
        "id": "cf3WfpSkilx1",
        "colab": {
          "base_uri": "https://localhost:8080/"
        },
        "outputId": "2e6b66d8-e53c-4afd-dd58-0e48ad905751"
      },
      "outputs": [
        {
          "output_type": "stream",
          "name": "stdout",
          "text": [
            "[[ 4.47026295  6.33138686 15.26501577 14.00320573 12.39008984  5.80937672\n",
            "   1.76857462  8.54270808  9.27061976  2.41037324]\n",
            " [ 5.26608861  4.12412335  3.34992283  0.81720358  0.44765967  1.24571141\n",
            "   7.36493779  0.06075279  4.79604395  9.34290175]\n",
            " [ 7.85881354  1.50011774  4.1109258   0.45429984  1.3245139   3.74553969\n",
            "   5.26416564  1.71254018  7.02756752 11.16753561]\n",
            " [ 1.8273361  11.28403632  1.10243814  4.12163179  5.14089911  5.50792086\n",
            "  13.19743346  4.58079106  1.37944227  4.50334094]\n",
            " [13.37965708  2.76020498 17.23261749  8.9520126   5.69290462  3.1158892\n",
            "   5.11770956 13.73970691 16.66385005  4.45614277]\n",
            " [15.90474486  6.30307376  9.41742725  1.29837326  4.06100377  9.97899821\n",
            "   2.76799772  9.01745709 15.20328973 14.1165795 ]\n",
            " [ 1.04953777 10.77726154  3.7608182   6.29970155  6.8892813   6.01572674\n",
            "  11.31880088  2.28721604  0.32205295  2.81175387]\n",
            " [12.33336078  2.69735812  8.29328778  0.37314907  1.69109876  6.5748519\n",
            "   0.16472435  6.68603141 12.0972188  11.67313025]\n",
            " [ 3.2555544   6.01904166  1.54762917  0.52646101  0.68457788  0.06540345\n",
            "   9.61671988  2.11703119  2.55079575  9.04482289]\n",
            " [ 3.18159867 13.1244895   4.77679964  9.07450357  9.88697213  8.92112671\n",
            "  12.20288305  2.43075232  0.81572401  0.2013378 ]]\n"
          ]
        }
      ],
      "source": [
        "P0 = np.random.uniform(-10, 10, (10,2))\n",
        "P1 = np.random.uniform(-10,10,(10,2))\n",
        "p = np.random.uniform(-10, 10, (10,2))\n",
        "print(np.array([distance(P0,P1,p_i) for p_i in p]))"
      ]
    },
    {
      "cell_type": "markdown",
      "metadata": {
        "id": "kOXtsWBoilx1"
      },
      "source": [
        "#### 80. Consider an arbitrary array, write a function that extract a subpart with a fixed shape and centered on a given element (pad with a `fill` value when necessary) (★★★) \n",
        "(**hint**: minimum, maximum)"
      ]
    },
    {
      "cell_type": "code",
      "execution_count": 79,
      "metadata": {
        "id": "HEluv56Oilx2",
        "colab": {
          "base_uri": "https://localhost:8080/"
        },
        "outputId": "afa419df-197e-4f3d-c5e3-085f326611ff"
      },
      "outputs": [
        {
          "output_type": "stream",
          "name": "stdout",
          "text": [
            "[[1 6 8 0 4 6 6 1 8 6]\n",
            " [2 6 4 3 0 5 0 9 7 5]\n",
            " [2 4 2 7 1 5 7 1 3 8]\n",
            " [0 5 0 9 7 3 3 3 0 5]\n",
            " [0 2 1 7 9 2 3 8 0 5]\n",
            " [5 7 3 2 3 9 2 4 2 5]\n",
            " [2 2 6 3 8 3 7 4 4 1]\n",
            " [8 1 8 2 2 0 2 1 7 4]\n",
            " [2 2 8 0 7 1 4 3 0 9]\n",
            " [5 5 6 8 5 1 3 9 6 3]]\n",
            "[[0 0 0 0 0]\n",
            " [0 1 6 8 0]\n",
            " [0 2 6 4 3]\n",
            " [0 2 4 2 7]\n",
            " [0 0 5 0 9]]\n"
          ]
        },
        {
          "output_type": "stream",
          "name": "stderr",
          "text": [
            "/usr/local/lib/python3.7/dist-packages/ipykernel_launcher.py:23: FutureWarning: Using a non-tuple sequence for multidimensional indexing is deprecated; use `arr[tuple(seq)]` instead of `arr[seq]`. In the future this will be interpreted as an array index, `arr[np.array(seq)]`, which will result either in an error or a different result.\n"
          ]
        }
      ],
      "source": [
        "Z = np.random.randint(0,10,(10,10))\n",
        "shape = (5,5)\n",
        "fill  = 0\n",
        "position = (1,1)\n",
        "\n",
        "R = np.ones(shape, dtype=Z.dtype)*fill\n",
        "P  = np.array(list(position)).astype(int)\n",
        "Rs = np.array(list(R.shape)).astype(int)\n",
        "Zs = np.array(list(Z.shape)).astype(int)\n",
        "\n",
        "R_start = np.zeros((len(shape),)).astype(int)\n",
        "R_stop  = np.array(list(shape)).astype(int)\n",
        "Z_start = (P-Rs//2)\n",
        "Z_stop  = (P+Rs//2)+Rs%2\n",
        "\n",
        "R_start = (R_start - np.minimum(Z_start,0)).tolist()\n",
        "Z_start = (np.maximum(Z_start,0)).tolist()\n",
        "R_stop = np.maximum(R_start, (R_stop - np.maximum(Z_stop-Zs,0))).tolist()\n",
        "Z_stop = (np.minimum(Z_stop,Zs)).tolist()\n",
        "\n",
        "r = [slice(start,stop) for start,stop in zip(R_start,R_stop)]\n",
        "z = [slice(start,stop) for start,stop in zip(Z_start,Z_stop)]\n",
        "R[r] = Z[z]\n",
        "print(Z)\n",
        "print(R)"
      ]
    },
    {
      "cell_type": "markdown",
      "metadata": {
        "id": "0uoj4CGPilx3"
      },
      "source": [
        "#### 81. Consider an array Z = \\[1,2,3,4,5,6,7,8,9,10,11,12,13,14\\], how to generate an array R = \\[\\[1,2,3,4\\], \\[2,3,4,5\\], \\[3,4,5,6\\], ..., \\[11,12,13,14\\]\\]? (★★★) \n",
        "(**hint**: stride\\_tricks.as\\_strided)"
      ]
    },
    {
      "cell_type": "code",
      "execution_count": 80,
      "metadata": {
        "id": "fXYJGXLJilx4",
        "colab": {
          "base_uri": "https://localhost:8080/"
        },
        "outputId": "5a98deff-4549-421d-a5b3-8bb2450b8870"
      },
      "outputs": [
        {
          "output_type": "stream",
          "name": "stdout",
          "text": [
            "[[ 1  2  3  4]\n",
            " [ 2  3  4  5]\n",
            " [ 3  4  5  6]\n",
            " [ 4  5  6  7]\n",
            " [ 5  6  7  8]\n",
            " [ 6  7  8  9]\n",
            " [ 7  8  9 10]\n",
            " [ 8  9 10 11]\n",
            " [ 9 10 11 12]\n",
            " [10 11 12 13]\n",
            " [11 12 13 14]]\n"
          ]
        }
      ],
      "source": [
        "Z = np.arange(1,15,dtype=np.uint32)\n",
        "R = stride_tricks.as_strided(Z,(11,4),(4,4))\n",
        "print(R)"
      ]
    },
    {
      "cell_type": "markdown",
      "metadata": {
        "id": "THbO01qAilx4"
      },
      "source": [
        "#### 82. Compute a matrix rank (★★★) \n",
        "(**hint**: np.linalg.svd) (suggestion: np.linalg.svd)"
      ]
    },
    {
      "cell_type": "code",
      "execution_count": 81,
      "metadata": {
        "id": "BdaokNJ1ilx4",
        "colab": {
          "base_uri": "https://localhost:8080/"
        },
        "outputId": "ca0ea3be-0799-4096-fd4c-5de017438806"
      },
      "outputs": [
        {
          "output_type": "stream",
          "name": "stdout",
          "text": [
            "10\n",
            "10\n"
          ]
        }
      ],
      "source": [
        "Z = np.random.uniform(0,1,(10,10))\n",
        "U, S, V = np.linalg.svd(Z) # Singular Value Decomposition\n",
        "rank = np.sum(S > 1e-10)\n",
        "print(rank)\n",
        "# alternative solution:\n",
        "rank = np.linalg.matrix_rank(Z)\n",
        "print(rank)"
      ]
    },
    {
      "cell_type": "markdown",
      "metadata": {
        "id": "SRnBo8G5ilx5"
      },
      "source": [
        "#### 83. How to find the most frequent value in an array? \n",
        "(**hint**: np.bincount, argmax)"
      ]
    },
    {
      "cell_type": "code",
      "execution_count": 84,
      "metadata": {
        "id": "abQG7NL0ilx5",
        "colab": {
          "base_uri": "https://localhost:8080/"
        },
        "outputId": "bb470072-51e6-4018-a880-da0c5fc48487"
      },
      "outputs": [
        {
          "output_type": "stream",
          "name": "stdout",
          "text": [
            "6\n"
          ]
        }
      ],
      "source": [
        "x= np.random.randint(0,10,50)\n",
        "print(np.bincount(x).argmax())"
      ]
    },
    {
      "cell_type": "markdown",
      "metadata": {
        "id": "x-ufxskNilx5"
      },
      "source": [
        "#### 84. Extract all the contiguous 3x3 blocks from a random 10x10 matrix (★★★) \n",
        "(**hint**: stride\\_tricks.as\\_strided)"
      ]
    },
    {
      "cell_type": "code",
      "execution_count": 85,
      "metadata": {
        "id": "h3AQvUrpilx6",
        "colab": {
          "base_uri": "https://localhost:8080/"
        },
        "outputId": "af332c8d-65af-4e45-a202-e45d998ab8ca"
      },
      "outputs": [
        {
          "output_type": "stream",
          "name": "stdout",
          "text": [
            "[[[[1 4 0]\n",
            "   [2 0 0]\n",
            "   [1 0 2]]\n",
            "\n",
            "  [[4 0 4]\n",
            "   [0 0 0]\n",
            "   [0 2 4]]\n",
            "\n",
            "  [[0 4 3]\n",
            "   [0 0 4]\n",
            "   [2 4 2]]\n",
            "\n",
            "  [[4 3 2]\n",
            "   [0 4 0]\n",
            "   [4 2 1]]\n",
            "\n",
            "  [[3 2 0]\n",
            "   [4 0 1]\n",
            "   [2 1 4]]\n",
            "\n",
            "  [[2 0 2]\n",
            "   [0 1 2]\n",
            "   [1 4 4]]\n",
            "\n",
            "  [[0 2 4]\n",
            "   [1 2 0]\n",
            "   [4 4 2]]\n",
            "\n",
            "  [[2 4 2]\n",
            "   [2 0 3]\n",
            "   [4 2 3]]]\n",
            "\n",
            "\n",
            " [[[2 0 0]\n",
            "   [1 0 2]\n",
            "   [3 1 4]]\n",
            "\n",
            "  [[0 0 0]\n",
            "   [0 2 4]\n",
            "   [1 4 3]]\n",
            "\n",
            "  [[0 0 4]\n",
            "   [2 4 2]\n",
            "   [4 3 3]]\n",
            "\n",
            "  [[0 4 0]\n",
            "   [4 2 1]\n",
            "   [3 3 0]]\n",
            "\n",
            "  [[4 0 1]\n",
            "   [2 1 4]\n",
            "   [3 0 3]]\n",
            "\n",
            "  [[0 1 2]\n",
            "   [1 4 4]\n",
            "   [0 3 3]]\n",
            "\n",
            "  [[1 2 0]\n",
            "   [4 4 2]\n",
            "   [3 3 0]]\n",
            "\n",
            "  [[2 0 3]\n",
            "   [4 2 3]\n",
            "   [3 0 1]]]\n",
            "\n",
            "\n",
            " [[[1 0 2]\n",
            "   [3 1 4]\n",
            "   [1 0 3]]\n",
            "\n",
            "  [[0 2 4]\n",
            "   [1 4 3]\n",
            "   [0 3 1]]\n",
            "\n",
            "  [[2 4 2]\n",
            "   [4 3 3]\n",
            "   [3 1 4]]\n",
            "\n",
            "  [[4 2 1]\n",
            "   [3 3 0]\n",
            "   [1 4 3]]\n",
            "\n",
            "  [[2 1 4]\n",
            "   [3 0 3]\n",
            "   [4 3 2]]\n",
            "\n",
            "  [[1 4 4]\n",
            "   [0 3 3]\n",
            "   [3 2 2]]\n",
            "\n",
            "  [[4 4 2]\n",
            "   [3 3 0]\n",
            "   [2 2 0]]\n",
            "\n",
            "  [[4 2 3]\n",
            "   [3 0 1]\n",
            "   [2 0 4]]]\n",
            "\n",
            "\n",
            " [[[3 1 4]\n",
            "   [1 0 3]\n",
            "   [3 3 4]]\n",
            "\n",
            "  [[1 4 3]\n",
            "   [0 3 1]\n",
            "   [3 4 1]]\n",
            "\n",
            "  [[4 3 3]\n",
            "   [3 1 4]\n",
            "   [4 1 3]]\n",
            "\n",
            "  [[3 3 0]\n",
            "   [1 4 3]\n",
            "   [1 3 1]]\n",
            "\n",
            "  [[3 0 3]\n",
            "   [4 3 2]\n",
            "   [3 1 3]]\n",
            "\n",
            "  [[0 3 3]\n",
            "   [3 2 2]\n",
            "   [1 3 1]]\n",
            "\n",
            "  [[3 3 0]\n",
            "   [2 2 0]\n",
            "   [3 1 4]]\n",
            "\n",
            "  [[3 0 1]\n",
            "   [2 0 4]\n",
            "   [1 4 0]]]\n",
            "\n",
            "\n",
            " [[[1 0 3]\n",
            "   [3 3 4]\n",
            "   [2 4 1]]\n",
            "\n",
            "  [[0 3 1]\n",
            "   [3 4 1]\n",
            "   [4 1 3]]\n",
            "\n",
            "  [[3 1 4]\n",
            "   [4 1 3]\n",
            "   [1 3 3]]\n",
            "\n",
            "  [[1 4 3]\n",
            "   [1 3 1]\n",
            "   [3 3 3]]\n",
            "\n",
            "  [[4 3 2]\n",
            "   [3 1 3]\n",
            "   [3 3 4]]\n",
            "\n",
            "  [[3 2 2]\n",
            "   [1 3 1]\n",
            "   [3 4 2]]\n",
            "\n",
            "  [[2 2 0]\n",
            "   [3 1 4]\n",
            "   [4 2 0]]\n",
            "\n",
            "  [[2 0 4]\n",
            "   [1 4 0]\n",
            "   [2 0 4]]]\n",
            "\n",
            "\n",
            " [[[3 3 4]\n",
            "   [2 4 1]\n",
            "   [3 3 1]]\n",
            "\n",
            "  [[3 4 1]\n",
            "   [4 1 3]\n",
            "   [3 1 4]]\n",
            "\n",
            "  [[4 1 3]\n",
            "   [1 3 3]\n",
            "   [1 4 1]]\n",
            "\n",
            "  [[1 3 1]\n",
            "   [3 3 3]\n",
            "   [4 1 3]]\n",
            "\n",
            "  [[3 1 3]\n",
            "   [3 3 4]\n",
            "   [1 3 4]]\n",
            "\n",
            "  [[1 3 1]\n",
            "   [3 4 2]\n",
            "   [3 4 3]]\n",
            "\n",
            "  [[3 1 4]\n",
            "   [4 2 0]\n",
            "   [4 3 2]]\n",
            "\n",
            "  [[1 4 0]\n",
            "   [2 0 4]\n",
            "   [3 2 4]]]\n",
            "\n",
            "\n",
            " [[[2 4 1]\n",
            "   [3 3 1]\n",
            "   [0 1 0]]\n",
            "\n",
            "  [[4 1 3]\n",
            "   [3 1 4]\n",
            "   [1 0 4]]\n",
            "\n",
            "  [[1 3 3]\n",
            "   [1 4 1]\n",
            "   [0 4 3]]\n",
            "\n",
            "  [[3 3 3]\n",
            "   [4 1 3]\n",
            "   [4 3 0]]\n",
            "\n",
            "  [[3 3 4]\n",
            "   [1 3 4]\n",
            "   [3 0 0]]\n",
            "\n",
            "  [[3 4 2]\n",
            "   [3 4 3]\n",
            "   [0 0 4]]\n",
            "\n",
            "  [[4 2 0]\n",
            "   [4 3 2]\n",
            "   [0 4 1]]\n",
            "\n",
            "  [[2 0 4]\n",
            "   [3 2 4]\n",
            "   [4 1 3]]]\n",
            "\n",
            "\n",
            " [[[3 3 1]\n",
            "   [0 1 0]\n",
            "   [4 3 4]]\n",
            "\n",
            "  [[3 1 4]\n",
            "   [1 0 4]\n",
            "   [3 4 2]]\n",
            "\n",
            "  [[1 4 1]\n",
            "   [0 4 3]\n",
            "   [4 2 1]]\n",
            "\n",
            "  [[4 1 3]\n",
            "   [4 3 0]\n",
            "   [2 1 4]]\n",
            "\n",
            "  [[1 3 4]\n",
            "   [3 0 0]\n",
            "   [1 4 2]]\n",
            "\n",
            "  [[3 4 3]\n",
            "   [0 0 4]\n",
            "   [4 2 2]]\n",
            "\n",
            "  [[4 3 2]\n",
            "   [0 4 1]\n",
            "   [2 2 4]]\n",
            "\n",
            "  [[3 2 4]\n",
            "   [4 1 3]\n",
            "   [2 4 0]]]]\n"
          ]
        }
      ],
      "source": [
        "Z = np.random.randint(0,5,(10,10))\n",
        "n = 3\n",
        "i = 1 + (Z.shape[0]-3)\n",
        "j = 1 + (Z.shape[1]-3)\n",
        "C = stride_tricks.as_strided(Z, shape=(i, j, n, n), strides=Z.strides + Z.strides)\n",
        "print(C)\n"
      ]
    },
    {
      "cell_type": "markdown",
      "metadata": {
        "id": "CbCA7f-xilx6"
      },
      "source": [
        "#### 85. Create a 2D array subclass such that Z\\[i,j\\] == Z\\[j,i\\] (★★★) \n",
        "(**hint**: class method)"
      ]
    },
    {
      "cell_type": "code",
      "execution_count": 86,
      "metadata": {
        "id": "59wyRb5Kilx-",
        "colab": {
          "base_uri": "https://localhost:8080/"
        },
        "outputId": "af5fbb3d-7943-42f2-d8da-1297a9642b46"
      },
      "outputs": [
        {
          "output_type": "stream",
          "name": "stdout",
          "text": [
            "[[ 2 12  6 14  8]\n",
            " [12  6  9 12 17]\n",
            " [ 6  9  4 42  8]\n",
            " [14 12 42  2  9]\n",
            " [ 8 17  8  9  9]]\n"
          ]
        }
      ],
      "source": [
        "class Symetric(np.ndarray):\n",
        "    def __setitem__(self, index, value):\n",
        "        i,j = index\n",
        "        super(Symetric, self).__setitem__((i,j), value)\n",
        "        super(Symetric, self).__setitem__((j,i), value)\n",
        "\n",
        "def symetric(Z):\n",
        "    return np.asarray(Z + Z.T - np.diag(Z.diagonal())).view(Symetric)\n",
        "\n",
        "S = symetric(np.random.randint(0,10,(5,5)))\n",
        "S[2,3] = 42\n",
        "print(S)"
      ]
    },
    {
      "cell_type": "markdown",
      "metadata": {
        "id": "kQ92kawUilx_"
      },
      "source": [
        "#### 86. Consider a set of p matrices wich shape (n,n) and a set of p vectors with shape (n,1). How to compute the sum of of the p matrix products at once? (result has shape (n,1)) (★★★) \n",
        "(**hint**: np.tensordot)"
      ]
    },
    {
      "cell_type": "code",
      "execution_count": 87,
      "metadata": {
        "id": "J4XUKPzBilx_",
        "colab": {
          "base_uri": "https://localhost:8080/"
        },
        "outputId": "2e2a8d6a-aefc-4565-cc8d-16a9162302cd"
      },
      "outputs": [
        {
          "output_type": "stream",
          "name": "stdout",
          "text": [
            "[[200.]\n",
            " [200.]\n",
            " [200.]\n",
            " [200.]\n",
            " [200.]\n",
            " [200.]\n",
            " [200.]\n",
            " [200.]\n",
            " [200.]\n",
            " [200.]\n",
            " [200.]\n",
            " [200.]\n",
            " [200.]\n",
            " [200.]\n",
            " [200.]\n",
            " [200.]\n",
            " [200.]\n",
            " [200.]\n",
            " [200.]\n",
            " [200.]]\n"
          ]
        }
      ],
      "source": [
        "p, n = 10, 20\n",
        "M = np.ones((p,n,n))\n",
        "V = np.ones((p,n,1))\n",
        "S = np.tensordot(M, V, axes=[[0, 2], [0, 1]])\n",
        "print(S)\n",
        "\n",
        "# It works, because:\n",
        "# M is (p,n,n)\n",
        "# V is (p,n,1)\n",
        "# Thus, summing over the paired axes 0 and 0 (of M and V independently),\n",
        "# and 2 and 1, to remain with a (n,1) vector."
      ]
    },
    {
      "cell_type": "markdown",
      "metadata": {
        "id": "47AzBGp9ilx_"
      },
      "source": [
        "#### 87. Consider a 16x16 array, how to get the block-sum (block size is 4x4)? (★★★) \n",
        "(**hint**: np.add.reduceat)"
      ]
    },
    {
      "cell_type": "code",
      "execution_count": 89,
      "metadata": {
        "id": "ZpM0m7ioilyA",
        "colab": {
          "base_uri": "https://localhost:8080/"
        },
        "outputId": "02858c38-7258-4601-9da6-043c3619d13f"
      },
      "outputs": [
        {
          "output_type": "stream",
          "name": "stdout",
          "text": [
            "[[16. 16. 16. 16.]\n",
            " [16. 16. 16. 16.]\n",
            " [16. 16. 16. 16.]\n",
            " [16. 16. 16. 16.]]\n"
          ]
        }
      ],
      "source": [
        "Z = np.ones((16,16))\n",
        "k = 4\n",
        "S = np.add.reduceat(np.add.reduceat(Z, np.arange(0, Z.shape[0], k), axis=0),\n",
        "                                       np.arange(0, Z.shape[1], k), axis=1)\n",
        "print(S)"
      ]
    },
    {
      "cell_type": "markdown",
      "metadata": {
        "id": "KKqk2TyFilyB"
      },
      "source": [
        "#### 88. How to implement the Game of Life using numpy arrays? (★★★)"
      ]
    },
    {
      "cell_type": "code",
      "execution_count": 90,
      "metadata": {
        "id": "jiaPiYAlilyC",
        "colab": {
          "base_uri": "https://localhost:8080/"
        },
        "outputId": "30883b6e-3a63-4151-ef7c-9e907ac123fd"
      },
      "outputs": [
        {
          "output_type": "stream",
          "name": "stdout",
          "text": [
            "[[0 0 0 0 0 0 0 0 0 0 0 0 0 0 0 0 0 0 0 0 0 0 0 0 0 0 0 0 0 0 0 0 0 0 0 0\n",
            "  0 0 0 0 0 0 0 0 0 0 0 0 0 0]\n",
            " [0 0 0 0 0 0 1 0 0 0 0 0 0 0 1 1 0 0 0 0 0 0 0 0 0 0 0 0 0 0 0 0 0 0 0 0\n",
            "  0 0 0 0 0 0 0 0 0 0 0 0 0 0]\n",
            " [0 0 0 0 0 0 1 0 0 0 0 0 0 1 0 1 0 0 0 0 0 0 0 0 0 0 0 0 0 0 0 0 0 0 0 0\n",
            "  0 0 0 0 0 0 0 0 0 0 0 0 0 0]\n",
            " [0 0 0 0 0 0 1 0 0 0 0 0 0 1 1 0 0 0 0 0 0 0 0 0 0 0 0 0 0 0 0 0 0 0 0 0\n",
            "  0 0 0 0 0 0 0 0 0 0 0 0 0 0]\n",
            " [0 0 0 0 0 0 0 0 0 0 0 0 0 0 0 0 0 0 0 0 0 0 0 1 0 0 0 0 0 0 0 0 1 1 0 0\n",
            "  0 0 0 0 0 0 0 0 0 0 1 1 1 0]\n",
            " [0 0 0 0 0 0 0 0 0 0 0 0 0 0 0 0 0 0 0 0 0 0 1 1 0 0 0 0 0 0 0 0 1 1 0 0\n",
            "  0 0 0 0 0 0 0 0 0 0 0 0 0 0]\n",
            " [0 0 0 0 0 0 0 0 0 0 0 0 0 0 0 0 0 0 0 0 0 0 1 1 0 1 0 0 0 0 0 0 0 0 0 0\n",
            "  0 0 0 0 0 0 0 0 0 0 0 0 0 0]\n",
            " [0 0 0 0 0 0 0 0 0 0 0 0 0 0 0 0 0 0 0 0 0 0 0 0 0 0 1 1 0 0 0 0 0 0 0 0\n",
            "  0 0 0 0 0 0 0 0 0 0 0 0 0 0]\n",
            " [0 0 0 0 0 0 0 0 0 0 0 0 0 0 0 0 0 0 1 1 1 0 0 0 0 0 1 0 0 0 0 0 0 0 0 0\n",
            "  0 0 0 0 0 0 0 0 0 0 0 0 0 0]\n",
            " [0 0 0 0 0 0 0 0 0 0 0 0 0 0 0 0 0 0 1 1 0 0 0 0 0 0 1 0 0 0 0 0 0 0 0 0\n",
            "  0 0 0 0 0 0 0 0 0 0 0 0 0 0]\n",
            " [0 0 0 0 0 0 0 0 0 0 0 0 0 0 0 0 0 0 0 0 0 1 0 0 0 0 0 0 0 0 0 0 0 0 0 0\n",
            "  0 0 0 0 0 0 0 0 0 0 0 0 0 0]\n",
            " [0 0 0 0 0 0 0 0 0 0 0 0 0 0 0 0 0 0 0 0 1 0 0 0 0 0 0 0 0 0 0 0 0 0 0 0\n",
            "  0 0 0 0 0 0 0 0 0 0 0 0 0 0]\n",
            " [0 0 0 0 0 0 0 0 0 0 0 0 0 1 1 0 0 0 0 0 0 1 0 0 0 0 0 0 0 0 0 0 0 0 0 0\n",
            "  0 0 0 0 0 0 0 0 0 0 0 0 0 0]\n",
            " [0 0 0 0 0 0 0 0 0 0 0 0 0 1 1 0 0 0 0 0 0 1 1 0 1 0 0 1 0 0 0 1 0 0 0 0\n",
            "  0 0 0 0 0 0 0 0 0 0 0 0 0 0]\n",
            " [0 0 0 0 0 0 0 1 1 1 0 0 0 0 0 0 0 0 0 0 0 0 0 0 0 0 0 0 0 0 1 1 0 1 0 1\n",
            "  0 1 0 0 0 0 0 0 0 0 0 0 0 0]\n",
            " [0 0 0 0 0 0 0 1 0 0 1 0 0 0 0 0 0 0 0 0 0 0 0 0 1 1 0 1 0 1 1 0 0 0 0 0\n",
            "  1 0 1 0 0 0 0 0 0 0 0 1 0 0]\n",
            " [0 0 0 0 0 0 1 0 0 0 1 0 0 0 0 0 0 0 0 0 0 0 0 0 0 0 0 0 1 0 0 0 0 1 0 0\n",
            "  1 0 1 0 0 0 0 0 0 0 1 0 1 0]\n",
            " [0 0 0 0 0 0 1 1 1 1 0 0 0 0 0 0 0 0 0 0 0 0 0 1 0 1 1 1 0 0 0 0 0 0 1 0\n",
            "  1 1 0 0 0 0 0 0 0 0 0 1 0 0]\n",
            " [0 1 1 0 0 0 1 0 0 0 0 0 0 0 0 0 0 0 0 0 0 1 1 0 0 1 1 1 0 0 0 1 1 0 1 1\n",
            "  1 0 0 0 0 0 0 0 0 0 0 0 0 0]\n",
            " [0 1 1 0 0 0 1 0 0 1 0 0 0 0 0 0 0 0 0 0 0 0 0 1 0 0 0 0 0 0 0 1 1 1 1 0\n",
            "  0 0 0 0 0 0 0 0 0 0 0 0 0 0]\n",
            " [0 0 0 0 0 1 0 0 0 1 0 0 0 0 0 0 0 0 0 0 0 0 0 1 0 0 0 0 0 0 0 1 0 0 0 0\n",
            "  0 0 0 0 0 0 0 0 0 0 0 0 0 0]\n",
            " [0 0 0 0 0 1 1 0 0 0 1 0 0 0 0 0 0 0 0 0 0 0 0 1 1 0 1 1 1 1 0 1 0 0 0 0\n",
            "  1 1 0 0 0 0 0 0 0 0 0 0 0 0]\n",
            " [0 0 0 0 0 1 1 0 1 0 1 0 1 0 0 0 0 0 0 0 0 1 1 0 1 0 1 1 1 1 1 0 0 0 0 0\n",
            "  1 1 0 0 0 0 0 0 0 0 0 0 0 0]\n",
            " [0 0 0 0 0 0 0 1 1 0 1 0 1 1 0 0 0 0 0 0 0 1 1 0 0 0 1 0 0 1 0 0 0 0 0 0\n",
            "  0 0 0 0 0 0 0 0 0 0 0 0 0 0]\n",
            " [0 0 0 0 0 0 1 0 0 0 1 1 1 0 1 0 0 0 0 0 0 1 1 1 1 0 0 0 0 0 0 0 0 0 0 0\n",
            "  0 0 0 0 0 0 0 0 0 0 0 0 0 0]\n",
            " [0 0 0 0 0 0 1 0 1 0 0 0 1 0 1 0 0 0 0 0 0 0 0 1 0 0 0 0 0 0 0 0 0 0 0 0\n",
            "  0 0 0 0 0 0 0 0 0 0 0 0 0 0]\n",
            " [0 0 0 0 0 0 1 1 0 0 0 0 0 0 0 0 0 0 0 0 0 0 0 0 0 0 0 0 0 0 0 0 0 0 0 0\n",
            "  0 0 0 0 0 0 0 0 0 0 0 0 0 0]\n",
            " [0 0 0 0 0 0 0 0 0 0 0 0 0 0 0 0 0 0 0 0 0 0 0 0 0 0 0 0 0 0 0 0 0 0 0 0\n",
            "  0 0 0 0 0 0 0 0 0 0 0 0 0 0]\n",
            " [0 0 0 0 0 0 0 0 0 0 0 0 0 0 0 0 0 0 0 0 0 0 0 0 0 1 1 0 0 0 0 0 0 0 0 0\n",
            "  0 0 0 0 0 0 0 0 0 0 0 0 0 0]\n",
            " [0 0 0 0 0 0 0 0 0 0 0 0 0 0 0 0 0 0 0 0 0 0 0 0 1 0 0 1 0 0 0 0 0 0 0 0\n",
            "  0 0 0 0 0 0 0 0 0 0 0 0 0 0]\n",
            " [0 0 0 0 0 0 0 0 0 0 0 0 0 0 0 0 0 0 0 0 0 0 0 0 0 1 0 1 0 0 0 0 0 0 0 0\n",
            "  0 0 0 0 0 0 0 0 0 1 0 0 0 0]\n",
            " [0 0 0 0 0 0 0 0 0 0 0 0 0 0 0 0 0 0 0 0 0 0 0 0 0 0 1 0 0 0 0 0 0 0 0 0\n",
            "  0 0 0 0 0 0 0 0 1 0 1 0 0 0]\n",
            " [0 0 0 0 0 0 0 0 0 0 0 0 0 0 0 0 0 0 0 0 0 0 0 0 0 0 0 0 0 0 0 0 0 0 0 0\n",
            "  0 1 1 0 0 0 0 0 1 0 1 0 0 0]\n",
            " [0 0 0 0 0 0 0 0 0 0 0 0 0 0 0 0 0 0 0 0 0 0 0 0 0 0 0 0 0 0 0 0 0 0 0 0\n",
            "  0 1 1 0 0 0 0 0 0 1 0 0 0 0]\n",
            " [0 0 0 0 0 0 0 0 0 0 0 0 0 0 0 0 0 0 0 0 0 0 0 0 0 0 0 0 0 0 0 0 0 0 0 0\n",
            "  0 0 0 0 0 0 0 0 0 0 0 0 0 0]\n",
            " [0 0 0 0 0 0 0 0 0 0 0 0 0 0 0 0 0 0 0 0 0 0 0 0 0 0 0 0 0 0 0 0 0 0 1 0\n",
            "  0 0 0 0 0 0 0 0 0 0 0 0 0 0]\n",
            " [0 0 0 0 0 0 0 0 0 0 1 0 0 0 0 0 0 0 0 0 0 0 0 0 0 0 0 0 0 0 0 0 0 1 0 1\n",
            "  0 0 0 0 0 0 0 0 0 0 0 0 0 0]\n",
            " [0 0 0 0 0 1 0 0 0 1 0 1 0 0 0 0 0 0 0 0 0 0 0 0 0 0 0 0 0 0 0 0 0 1 0 1\n",
            "  0 0 0 0 0 0 0 1 1 1 1 1 0 0]\n",
            " [0 0 0 0 1 0 1 0 0 1 0 1 0 0 0 0 0 0 0 0 0 0 0 0 0 0 0 0 0 0 0 0 0 0 1 0\n",
            "  0 0 0 0 0 0 1 0 0 0 1 0 0 0]\n",
            " [0 0 0 1 0 0 1 0 0 0 1 0 0 0 0 0 0 0 0 0 0 0 0 0 0 0 0 0 0 0 0 0 0 0 0 0\n",
            "  0 0 0 0 0 0 1 0 1 1 0 0 0 0]\n",
            " [0 0 0 0 1 1 0 0 0 0 0 0 0 0 0 0 0 0 0 0 0 0 0 0 0 0 0 0 0 1 1 0 0 0 0 0\n",
            "  0 0 1 1 0 0 0 1 1 0 0 0 0 0]\n",
            " [0 0 0 0 0 0 0 0 0 0 0 0 0 0 0 0 0 0 0 0 0 0 0 0 0 0 0 0 1 0 0 1 0 0 0 0\n",
            "  0 1 0 0 1 0 0 0 0 0 0 0 0 0]\n",
            " [0 0 0 0 0 0 0 0 0 0 0 1 1 0 0 0 0 0 0 0 0 0 0 0 0 0 0 0 0 1 1 0 0 0 0 0\n",
            "  0 0 1 1 0 0 0 0 0 0 0 0 0 0]\n",
            " [0 0 0 0 0 0 0 0 0 0 0 1 1 0 0 0 0 0 0 0 0 0 0 0 0 0 0 0 0 0 0 0 0 0 0 0\n",
            "  0 0 0 0 0 0 0 0 0 0 0 0 0 0]\n",
            " [0 0 0 0 0 0 0 0 0 0 0 0 0 0 0 0 0 0 0 0 0 0 0 0 0 0 0 0 0 0 0 0 0 0 1 0\n",
            "  0 0 0 0 0 0 0 0 0 0 0 0 0 0]\n",
            " [0 0 0 0 0 0 0 0 0 0 0 0 0 0 0 0 0 0 0 0 0 0 0 0 0 0 0 0 0 0 0 0 0 1 0 1\n",
            "  0 0 0 0 0 0 0 0 0 0 0 0 0 0]\n",
            " [0 0 0 0 0 0 0 0 0 0 0 1 1 0 0 0 0 0 0 0 0 0 1 1 0 0 0 0 0 0 0 0 0 1 0 1\n",
            "  0 0 0 0 0 0 0 0 0 0 0 0 0 0]\n",
            " [0 0 0 0 0 0 0 0 0 0 0 1 0 1 0 0 0 0 0 0 0 1 0 1 0 0 0 0 0 0 0 0 0 0 1 0\n",
            "  0 0 0 0 0 0 0 0 0 0 0 0 0 0]\n",
            " [0 0 0 0 0 0 0 0 0 0 0 0 1 0 0 0 0 0 0 0 0 0 1 0 0 0 0 0 0 0 0 0 0 0 0 0\n",
            "  0 0 0 0 0 0 0 0 0 0 0 0 0 0]\n",
            " [0 0 0 0 0 0 0 0 0 0 0 0 0 0 0 0 0 0 0 0 0 0 0 0 0 0 0 0 0 0 0 0 0 0 0 0\n",
            "  0 0 0 0 0 0 0 0 0 0 0 0 0 0]]\n"
          ]
        }
      ],
      "source": [
        "def iterate(Z):\n",
        "    # Count neighbours\n",
        "    N = (Z[0:-2,0:-2] + Z[0:-2,1:-1] + Z[0:-2,2:] +\n",
        "         Z[1:-1,0:-2]                + Z[1:-1,2:] +\n",
        "         Z[2:  ,0:-2] + Z[2:  ,1:-1] + Z[2:  ,2:])\n",
        "\n",
        "    # Apply rules\n",
        "    birth = (N==3) & (Z[1:-1,1:-1]==0)\n",
        "    survive = ((N==2) | (N==3)) & (Z[1:-1,1:-1]==1)\n",
        "    Z[...] = 0\n",
        "    Z[1:-1,1:-1][birth | survive] = 1\n",
        "    return Z\n",
        "\n",
        "Z = np.random.randint(0,2,(50,50))\n",
        "for i in range(100): Z = iterate(Z)\n",
        "print(Z)"
      ]
    },
    {
      "cell_type": "markdown",
      "metadata": {
        "id": "hORMnjZnilyC"
      },
      "source": [
        "#### 89. How to get the n largest values of an array (★★★) \n",
        "(**hint**: np.argsort | np.argpartition)"
      ]
    },
    {
      "cell_type": "code",
      "execution_count": 91,
      "metadata": {
        "id": "gaHuQm1SilyC",
        "colab": {
          "base_uri": "https://localhost:8080/"
        },
        "outputId": "600ef15c-0cd6-4384-8bc6-c8ed2a83c217"
      },
      "outputs": [
        {
          "output_type": "stream",
          "name": "stdout",
          "text": [
            "[9995 9996 9997 9998 9999]\n",
            "[9999 9998 9997 9996 9995]\n"
          ]
        }
      ],
      "source": [
        "Z = np.arange(10000)\n",
        "np.random.shuffle(Z)\n",
        "n = 5\n",
        "\n",
        "# Slow\n",
        "print (Z[np.argsort(Z)[-n:]])\n",
        "\n",
        "# Fast\n",
        "print (Z[np.argpartition(-Z,n)[:n]])"
      ]
    },
    {
      "cell_type": "markdown",
      "metadata": {
        "id": "JcpCHFNmilyC"
      },
      "source": [
        "#### 90. Given an arbitrary number of vectors, build the cartesian product (every combinations of every item) (★★★) \n",
        "(**hint**: np.indices)"
      ]
    },
    {
      "cell_type": "code",
      "execution_count": 92,
      "metadata": {
        "scrolled": true,
        "id": "vMPwpcvLilyD",
        "colab": {
          "base_uri": "https://localhost:8080/"
        },
        "outputId": "53005c44-f2d4-49a5-8985-9a7af82e55fe"
      },
      "outputs": [
        {
          "output_type": "stream",
          "name": "stdout",
          "text": [
            "[[1 4 6]\n",
            " [1 4 7]\n",
            " [1 5 6]\n",
            " [1 5 7]\n",
            " [2 4 6]\n",
            " [2 4 7]\n",
            " [2 5 6]\n",
            " [2 5 7]\n",
            " [3 4 6]\n",
            " [3 4 7]\n",
            " [3 5 6]\n",
            " [3 5 7]]\n"
          ]
        }
      ],
      "source": [
        "def cartesian(arrays):\n",
        "    arrays = [np.asarray(a) for a in arrays]\n",
        "    shape = (len(x) for x in arrays)\n",
        "\n",
        "    ix = np.indices(shape, dtype=int)\n",
        "    ix = ix.reshape(len(arrays), -1).T\n",
        "\n",
        "    for n, arr in enumerate(arrays):\n",
        "        ix[:, n] = arrays[n][ix[:, n]]\n",
        "\n",
        "    return ix\n",
        "\n",
        "print (cartesian(([1, 2, 3], [4, 5], [6, 7])))"
      ]
    },
    {
      "cell_type": "markdown",
      "metadata": {
        "id": "ovfLktqxilyD"
      },
      "source": [
        "#### 91. How to create a record array from a regular array? (★★★) \n",
        "(**hint**: np.core.records.fromarrays)"
      ]
    },
    {
      "cell_type": "code",
      "execution_count": 93,
      "metadata": {
        "id": "BP7ZpYIdilyE",
        "colab": {
          "base_uri": "https://localhost:8080/"
        },
        "outputId": "660de565-5891-4124-a232-d38478490c20"
      },
      "outputs": [
        {
          "output_type": "stream",
          "name": "stdout",
          "text": [
            "[(b'Hello', 2.5, 3) (b'World', 3.6, 2)]\n"
          ]
        }
      ],
      "source": [
        "Z = np.array([(\"Hello\", 2.5, 3),\n",
        "              (\"World\", 3.6, 2)])\n",
        "R = np.core.records.fromarrays(Z.T,\n",
        "                               names='col1, col2, col3',\n",
        "                               formats = 'S8, f8, i8')\n",
        "print(R)"
      ]
    },
    {
      "cell_type": "markdown",
      "metadata": {
        "id": "NQ8T5NEailyE"
      },
      "source": [
        "#### 92. Consider a large vector Z, compute Z to the power of 3 using 3 different methods (★★★) \n",
        "(**hint**: np.power, \\*, np.einsum)"
      ]
    },
    {
      "cell_type": "code",
      "execution_count": 94,
      "metadata": {
        "id": "-RibPsRUilyE",
        "colab": {
          "base_uri": "https://localhost:8080/"
        },
        "outputId": "5e328947-03a1-4362-f6b5-5095082b90e1"
      },
      "outputs": [
        {
          "output_type": "stream",
          "name": "stdout",
          "text": [
            "1 loop, best of 5: 3.45 s per loop\n",
            "10 loops, best of 5: 139 ms per loop\n",
            "10 loops, best of 5: 120 ms per loop\n"
          ]
        }
      ],
      "source": [
        "x = np.random.rand(int(5e7))\n",
        "\n",
        "%timeit np.power(x,3)\n",
        "%timeit x*x*x\n",
        "%timeit np.einsum('i,i,i->i',x,x,x)"
      ]
    },
    {
      "cell_type": "markdown",
      "metadata": {
        "id": "UeJZjBhiilyE"
      },
      "source": [
        "#### 93. Consider two arrays A and B of shape (8,3) and (2,2). How to find rows of A that contain elements of each row of B regardless of the order of the elements in B? (★★★) \n",
        "(**hint**: np.where)"
      ]
    },
    {
      "cell_type": "code",
      "execution_count": 95,
      "metadata": {
        "id": "6RMvI_VGilyF",
        "colab": {
          "base_uri": "https://localhost:8080/"
        },
        "outputId": "5e9d5217-4dc1-4001-fcf2-c8bc7f86649d"
      },
      "outputs": [
        {
          "output_type": "stream",
          "name": "stdout",
          "text": [
            "[1 2 4 6]\n"
          ]
        }
      ],
      "source": [
        "A = np.random.randint(0,5,(8,3))\n",
        "B = np.random.randint(0,5,(2,2))\n",
        "\n",
        "C = (A[..., np.newaxis, np.newaxis] == B)\n",
        "rows = np.where(C.any((3,1)).all(1))[0]\n",
        "print(rows)"
      ]
    },
    {
      "cell_type": "markdown",
      "metadata": {
        "id": "CzFB0ddoilyF"
      },
      "source": [
        "#### 94. Considering a 10x3 matrix, extract rows with unequal values (e.g. \\[2,2,3\\]) (★★★)"
      ]
    },
    {
      "cell_type": "code",
      "execution_count": 96,
      "metadata": {
        "id": "pySFJZYNilyF",
        "colab": {
          "base_uri": "https://localhost:8080/"
        },
        "outputId": "b1a91762-8685-40ae-ff31-69afbef822eb"
      },
      "outputs": [
        {
          "output_type": "stream",
          "name": "stdout",
          "text": [
            "[[2 2 4]\n",
            " [4 1 4]\n",
            " [0 4 1]\n",
            " [4 0 2]\n",
            " [4 3 3]\n",
            " [1 3 1]\n",
            " [0 2 1]\n",
            " [3 4 1]\n",
            " [0 1 1]\n",
            " [1 2 4]]\n"
          ]
        }
      ],
      "source": [
        "Z = np.random.randint(0,5,(10,3))\n",
        "print(Z)"
      ]
    },
    {
      "cell_type": "markdown",
      "metadata": {
        "id": "ur7lUI03ilyF"
      },
      "source": [
        "#### 95. Convert a vector of ints into a matrix binary representation (★★★) \n",
        "(**hint**: np.unpackbits)"
      ]
    },
    {
      "cell_type": "code",
      "execution_count": 97,
      "metadata": {
        "id": "5bf2o7rDilyG",
        "colab": {
          "base_uri": "https://localhost:8080/"
        },
        "outputId": "2b8f279b-008b-418c-bc03-25ace49036e0"
      },
      "outputs": [
        {
          "output_type": "stream",
          "name": "stdout",
          "text": [
            "[[0 0 0 0 0 0 0 0]\n",
            " [0 0 0 0 0 0 0 1]\n",
            " [0 0 0 0 0 0 1 0]\n",
            " [0 0 0 0 0 0 1 1]\n",
            " [0 0 0 0 1 1 1 1]\n",
            " [0 0 0 1 0 0 0 0]\n",
            " [0 0 1 0 0 0 0 0]\n",
            " [0 1 0 0 0 0 0 0]\n",
            " [1 0 0 0 0 0 0 0]]\n"
          ]
        }
      ],
      "source": [
        "I = np.array([0, 1, 2, 3, 15, 16, 32, 64, 128], dtype=np.uint8)\n",
        "print(np.unpackbits(I[:, np.newaxis], axis=1))"
      ]
    },
    {
      "cell_type": "markdown",
      "metadata": {
        "id": "abWy2jeRilyG"
      },
      "source": [
        "#### 96. Given a two dimensional array, how to extract unique rows? (★★★) \n",
        "(**hint**: np.ascontiguousarray)"
      ]
    },
    {
      "cell_type": "code",
      "execution_count": 98,
      "metadata": {
        "id": "h1ZtmLaEilyG",
        "colab": {
          "base_uri": "https://localhost:8080/"
        },
        "outputId": "79a46dfe-d21c-408c-bbbb-76fda6214318"
      },
      "outputs": [
        {
          "output_type": "stream",
          "name": "stdout",
          "text": [
            "[[0 0 0]\n",
            " [0 0 1]\n",
            " [0 1 0]\n",
            " [0 1 1]\n",
            " [1 0 1]\n",
            " [1 1 0]]\n"
          ]
        }
      ],
      "source": [
        "Z = np.random.randint(0,2,(6,3))\n",
        "T = np.ascontiguousarray(Z).view(np.dtype((np.void, Z.dtype.itemsize * Z.shape[1])))\n",
        "_, idx = np.unique(T, return_index=True)\n",
        "uZ = Z[idx]\n",
        "print(uZ)"
      ]
    },
    {
      "cell_type": "markdown",
      "metadata": {
        "id": "PQOqyjhQilyG"
      },
      "source": [
        "#### 97. Considering 2 vectors A & B, write the einsum equivalent of inner, outer, sum, and mul function (★★★) \n",
        "(**hint**: np.einsum)"
      ]
    },
    {
      "cell_type": "code",
      "execution_count": 99,
      "metadata": {
        "id": "jgHLQdp1ilyH",
        "colab": {
          "base_uri": "https://localhost:8080/"
        },
        "outputId": "57f97fef-fd9d-4b9e-8778-9fe3c8fc25e1"
      },
      "outputs": [
        {
          "output_type": "execute_result",
          "data": {
            "text/plain": [
              "array([[0.66272309, 0.59480186, 0.13246302, 0.10124648, 0.384723  ,\n",
              "        0.60079824, 0.49906312, 0.2064743 , 0.43287626, 0.08364222],\n",
              "       [0.68740499, 0.61695416, 0.13739636, 0.10501721, 0.3990513 ,\n",
              "        0.62317387, 0.51764981, 0.21416405, 0.44899794, 0.08675732],\n",
              "       [0.11365546, 0.10200713, 0.0227171 , 0.01736353, 0.0659791 ,\n",
              "        0.1030355 , 0.08558816, 0.03540986, 0.07423727, 0.01434445],\n",
              "       [0.08158344, 0.07322211, 0.01630664, 0.01246378, 0.04736069,\n",
              "        0.07396028, 0.06143635, 0.02541768, 0.05328852, 0.01029664],\n",
              "       [0.22883099, 0.20537854, 0.04573802, 0.03495929, 0.13284062,\n",
              "        0.20744902, 0.172321  , 0.0712933 , 0.14946741, 0.02888074],\n",
              "       [0.18816778, 0.16888282, 0.03761039, 0.02874704, 0.10923488,\n",
              "        0.17058538, 0.1416996 , 0.0586245 , 0.12290709, 0.02374864],\n",
              "       [0.61696084, 0.5537297 , 0.1233162 , 0.09425522, 0.35815717,\n",
              "        0.55931202, 0.46460189, 0.19221687, 0.40298536, 0.07786657],\n",
              "       [0.62888062, 0.56442784, 0.12569869, 0.09607625, 0.36507682,\n",
              "        0.57011801, 0.47357807, 0.19593053, 0.41077109, 0.07937096],\n",
              "       [0.46205537, 0.41470019, 0.09235418, 0.07058978, 0.26823168,\n",
              "        0.41888091, 0.34795044, 0.14395539, 0.30180448, 0.05831597],\n",
              "       [0.26871973, 0.24117916, 0.05371086, 0.04105323, 0.15599677,\n",
              "        0.24361056, 0.20235919, 0.08372082, 0.17552186, 0.03391509]])"
            ]
          },
          "metadata": {},
          "execution_count": 99
        }
      ],
      "source": [
        "A = np.random.uniform(0,1,10)\n",
        "B = np.random.uniform(0,1,10)\n",
        "\n",
        "np.einsum('i->', A)       # np.sum(A)\n",
        "np.einsum('i,i->i', A, B) # A * B\n",
        "np.einsum('i,i', A, B)    # np.inner(A, B)\n",
        "np.einsum('i,j->ij', A, B)    # np.outer(A, B)"
      ]
    },
    {
      "cell_type": "markdown",
      "metadata": {
        "id": "ErE1j1hvilyH"
      },
      "source": [
        "#### 98. Considering a path described by two vectors (X,Y), how to sample it using equidistant samples (★★★)? \n",
        "(**hint**: np.cumsum, np.interp)"
      ]
    },
    {
      "cell_type": "code",
      "execution_count": 100,
      "metadata": {
        "collapsed": true,
        "id": "-E73tjdqilyH",
        "colab": {
          "base_uri": "https://localhost:8080/"
        },
        "outputId": "558ff9e5-c8aa-4348-85d5-738a70ccac9a"
      },
      "outputs": [
        {
          "output_type": "execute_result",
          "data": {
            "text/plain": [
              "(array([  0.        ,   0.09950042,   0.19601332,   0.28660095,\n",
              "          0.3684244 ,   0.43879128,   0.49520137,   0.53538953,\n",
              "          0.55736537,   0.55944897,   0.54030231,   0.49895573,\n",
              "          0.43482931,   0.34774848,   0.237954  ,   0.1061058 ,\n",
              "         -0.04671924,  -0.21903564,  -0.40896377,  -0.61425018,\n",
              "         -0.83229367,  -1.06017682,  -1.29470246,  -1.53243485,\n",
              "         -1.76974492,  -2.00285904,  -2.22791076,  -2.44099478,\n",
              "         -2.63822255,  -2.81577868,  -2.96997749,  -3.09731897,\n",
              "         -3.19454328,  -3.25868324,  -3.28711385,  -3.27759841,\n",
              "         -3.2283303 ,  -3.13797012,  -3.00567731,  -2.83113599,\n",
              "         -2.61457448,  -2.35677818,  -2.05909545,  -1.72343644,\n",
              "         -1.35226463,  -0.9485811 ,  -0.51590162,  -0.05822672,\n",
              "          0.41999512,   0.91391061,   1.41831093,   1.92768649,\n",
              "          2.43628669,   2.93818398,   3.42734153,   3.89768376,\n",
              "          4.34316892,   4.75786287,   5.1360132 ,   5.47212274,\n",
              "          5.76102172,   5.99793747,   6.178561  ,   6.29910941,\n",
              "          6.35638348,   6.34781957,   6.27153511,   6.12636709,\n",
              "          5.91190293,   5.62850319,   5.27731578,   4.86028133,\n",
              "          4.38012946,   3.84036588,   3.24525022,   2.59976488,\n",
              "          1.9095748 ,   1.18097874,   0.42085228,  -0.36341679,\n",
              "         -1.16400027,  -1.97270765,  -2.78106986,  -3.58042781,\n",
              "         -4.36202469,  -5.11710117,  -5.83699241,  -6.51322582,\n",
              "         -7.13761852,  -7.70237336,  -8.20017236,  -8.62426658,\n",
              "         -8.96856132,  -9.22769553,  -9.3971146 ,  -9.47313548,\n",
              "         -9.45300342,  -9.33493933,  -9.11817747,  -8.80299241,\n",
              "         -8.39071529,  -7.88373862,  -7.28550965,  -6.6005121 ,\n",
              "         -5.83423628,  -4.99313774,  -4.08458482,  -3.11679531,\n",
              "         -2.09876299,  -1.04017448,   0.04868268,   1.1570199 ,\n",
              "          2.27365447,   3.38712238,   4.48579588,   5.55800473,\n",
              "          6.59215971,   7.57687716,   8.50110325,   9.35423652,\n",
              "         10.1262475 ,  10.80779395,  11.39033046,  11.8662112 ,\n",
              "         12.22878455,  12.47247849,  12.59287578,  12.58677787,\n",
              "         12.45225684,  12.18869449,  11.79680816,  11.27866268,\n",
              "         10.63766824,   9.878564  ,   9.00738732,   8.03142895,\n",
              "          6.9591743 ,   5.80023126,   4.56524532,   3.26580248,\n",
              "          1.91432105,   0.52393323,  -0.89164247,  -2.31823644,\n",
              "         -3.74136993,  -5.14640187,  -6.51867941,  -7.84369048,\n",
              "         -9.10721675, -10.29548549, -11.39531869, -12.39427773,\n",
              "        -13.28080214, -14.04434094, -14.67547492, -15.16602867,\n",
              "        -15.50917095, -15.69950221, -15.73312822, -15.60771894,\n",
              "        -15.32255169, -14.87853808, -14.27823434, -13.52583451,\n",
              "        -12.62714655, -11.58955145, -10.42194539,  -9.13466558,\n",
              "         -7.73940027,  -6.24908366,  -4.67777675,  -3.04053512,\n",
              "         -1.35326495,   0.36743138,   2.10441864,   3.84019936,\n",
              "          5.55709009,   7.23740149,   8.86362041,  10.41859212,\n",
              "         11.88570075,  13.24904611,  14.49361496,  15.6054449 ,\n",
              "         16.57177917,  17.38121053,  18.02381279,  18.49125831,\n",
              "         18.7769203 ,  18.87595858,  18.78538775,  18.50412697,\n",
              "         18.03303066,  17.3748994 ,  16.53447108,  15.51839191,\n",
              "         14.33516747,  12.99509423,  11.51017187,   9.89399732,\n",
              "          8.16164124,   6.32950824,   4.41518203,   2.43725688,\n",
              "          0.4151572 ,  -1.63105313,  -3.6808699 ,  -5.713554  ,\n",
              "         -7.70834118,  -9.64465412, -11.50231446, -13.26175272,\n",
              "        -14.9042139 , -16.41195663, -17.76844373, -18.95852214,\n",
              "        -19.96859034, -20.78675129, -21.40294938, -21.80908968,\n",
              "        -21.99913818, -21.96920183, -21.71758737, -21.24483813,\n",
              "        -20.55374833, -19.6493544 , -18.53890336, -17.23179826,\n",
              "        -15.73952118, -14.07553421, -12.25515947, -10.29543901,\n",
              "         -8.21497601,  -6.03375864,  -3.77296837,  -1.45477441,\n",
              "          0.89788356,   3.2615224 ,   5.6123499 ,   7.92650424,\n",
              "         10.18029618,  12.35045135,  14.41435043,  16.35026444,\n",
              "         18.13758293,  19.7570326 ,  21.19088398,  22.42314406,\n",
              "         23.43973275,  24.2286412 ,  24.7800703 ,  25.08654775,\n",
              "         25.14302233,  24.94693422,  24.49826054,  23.79953536,\n",
              "         22.85584389,  21.67479057,  20.26644137,  18.64324051,\n",
              "         16.81990238,  14.81327959,  12.64220817,  10.32733155,\n",
              "          7.89090473,   5.35658069,   2.74918094,   0.09445254,\n",
              "         -2.58118617,  -5.25090838,  -7.88774784, -10.46487118,\n",
              "        -12.95585091, -15.33493623, -17.57731893, -19.65939164,\n",
              "        -21.55899571, -23.25565617, -24.7308012 , -25.96796395,\n",
              "        -26.95296426, -27.67406854, -28.12212595, -28.2906792 ,\n",
              "        -28.17604893, -27.77739036, -27.09672162, -26.13892326,\n",
              "        -24.91170863, -23.42556536, -21.69366836, -19.73176483,\n",
              "        -17.55803252, -15.19291234, -12.6589169 ,  -9.98041672,\n",
              "         -7.18340625,  -4.29525175,  -1.34442375,   1.63978364,\n",
              "          4.6275435 ,   7.58879418,  10.49354182,  13.31216405,\n",
              "         16.01571198,  18.57620727,  20.96693136,  23.16270375,\n",
              "         25.14014653,  26.87793233,  28.35701309,  29.56082725,\n",
              "         30.47548299,  31.08991568,  31.39601771]),\n",
              " array([ 0.00000000e+00,  9.98334166e-03,  3.97338662e-02,  8.86560620e-02,\n",
              "         1.55767337e-01,  2.39712769e-01,  3.38785484e-01,  4.50952381e-01,\n",
              "         5.73884873e-01,  7.04994219e-01,  8.41470985e-01,  9.80328096e-01,\n",
              "         1.11844690e+00,  1.25262564e+00,  1.37962962e+00,  1.49624248e+00,\n",
              "         1.59931776e+00,  1.68583018e+00,  1.75292574e+00,  1.79797017e+00,\n",
              "         1.81859485e+00,  1.81273967e+00,  1.77869209e+00,  1.71512199e+00,\n",
              "         1.62111163e+00,  1.49618036e+00,  1.34030357e+00,  1.15392568e+00,\n",
              "         9.37966820e-01,  6.93823055e-01,  4.23360024e-01,  1.28900054e-01,\n",
              "        -1.86797259e-01, -5.20560791e-01, -8.68839747e-01, -1.22774130e+00,\n",
              "        -1.59307360e+00, -1.96039372e+00, -2.32505999e+00, -2.68228802e+00,\n",
              "        -3.02720998e+00, -3.35493616e+00, -3.66061824e+00, -3.93951353e+00,\n",
              "        -4.18704913e+00, -4.39888553e+00, -4.57097862e+00, -4.69963931e+00,\n",
              "        -4.78159012e+00, -4.81401780e+00, -4.79462137e+00, -4.72165488e+00,\n",
              "        -4.59396421e+00, -4.41101744e+00, -4.17292823e+00, -3.88047179e+00,\n",
              "        -3.53509317e+00, -3.13890759e+00, -2.69469264e+00, -2.20587232e+00,\n",
              "        -1.67649299e+00, -1.11119128e+00, -5.15154297e-01,  1.05927573e-01,\n",
              "         7.45914911e-01,  1.39827992e+00,  2.05617300e+00,  2.71249447e+00,\n",
              "         3.35997079e+00,  3.99123437e+00,  4.59890619e+00,  5.17568018e+00,\n",
              "         5.71440862e+00,  6.20818733e+00,  6.65043991e+00,  7.03499983e+00,\n",
              "         7.35618951e+00,  7.60889540e+00,  7.78863809e+00,  7.89163660e+00,\n",
              "         7.91486597e+00,  7.85610747e+00,  7.71399056e+00,  7.48802622e+00,\n",
              "         7.17863083e+00,  6.78714046e+00,  6.31581504e+00,  5.76783230e+00,\n",
              "         5.14727130e+00,  4.45908562e+00,  3.70906637e+00,  2.90379510e+00,\n",
              "         2.05058721e+00,  1.15742614e+00,  2.32888999e-01, -7.13935644e-01,\n",
              "        -1.67353710e+00, -2.63607808e+00, -3.59149547e+00, -4.52960535e+00,\n",
              "        -5.44021111e+00, -6.31321355e+00, -7.13872181e+00, -7.90716384e+00,\n",
              "        -8.60939528e+00, -9.23680548e+00, -9.78141947e+00, -1.02359947e+01,\n",
              "        -1.05941113e+01, -1.08502552e+01, -1.09998923e+01, -1.10395337e+01,\n",
              "        -1.09667906e+01, -1.07804175e+01, -1.04803452e+01, -1.00677000e+01,\n",
              "        -9.54481170e+00, -8.91520793e+00, -8.18359600e+00, -7.35583164e+00,\n",
              "        -6.43887502e+00, -5.44073432e+00, -4.37039724e+00, -3.23775103e+00,\n",
              "        -2.05349178e+00, -8.29023717e-01,  4.23650395e-01,  1.69204693e+00,\n",
              "         2.96332576e+00,  4.22442026e+00,  5.46217148e+00,  6.66346518e+00,\n",
              "         7.81537039e+00,  8.90527784e+00,  9.92103693e+00,  1.08510898e+01,\n",
              "         1.16846007e+01,  1.24115800e+01,  1.30230002e+01,  1.35109043e+01,\n",
              "         1.38685030e+01,  1.40902624e+01,  1.41719785e+01,  1.41108391e+01,\n",
              "         1.39054720e+01,  1.35559783e+01,  1.30639511e+01,  1.24324784e+01,\n",
              "         1.16661306e+01,  1.07709321e+01,  9.75431760e+00,  8.62507273e+00,\n",
              "         7.39326007e+00,  6.07013077e+00,  4.66802269e+00,  3.20024597e+00,\n",
              "         1.68095698e+00,  1.25021985e-01, -1.45212823e+00, -3.03465144e+00,\n",
              "        -4.60645307e+00, -6.15134982e+00, -7.65323618e+00, -9.09625202e+00,\n",
              "        -1.04649496e+01, -1.17444581e+01, -1.29206445e+01, -1.39802677e+01,\n",
              "        -1.49111262e+01, -1.57021958e+01, -1.63437574e+01, -1.68275116e+01,\n",
              "        -1.71466811e+01, -1.72960977e+01, -1.72722732e+01, -1.70734551e+01,\n",
              "        -1.66996632e+01, -1.61527094e+01, -1.54361988e+01, -1.45555123e+01,\n",
              "        -1.35177704e+01, -1.23317792e+01, -1.10079574e+01, -9.55824719e+00,\n",
              "        -7.99600745e+00, -6.33589144e+00, -4.59371011e+00, -2.78628178e+00,\n",
              "        -9.31270049e-01,  9.52988800e-01,  2.84766698e+00,  4.73363337e+00,\n",
              "         6.59164663e+00,  8.40255146e+00,  1.01474758e+01,  1.18080275e+01,\n",
              "         1.33664870e+01,  1.48059963e+01,  1.61107400e+01,  1.72661176e+01,\n",
              "         1.82589050e+01,  1.90774035e+01,  1.97115745e+01,  2.01531580e+01,\n",
              "         2.03957752e+01,  2.04350108e+01,  2.02684779e+01,  1.98958614e+01,\n",
              "         1.93189409e+01,  1.85415923e+01,  1.75697684e+01,  1.64114568e+01,\n",
              "         1.50766179e+01,  1.35771013e+01,  1.19265421e+01,  1.01402386e+01,\n",
              "         8.23501062e+00,  6.22904253e+00,  4.14170953e+00,  1.99339091e+00,\n",
              "        -1.94728804e-01, -2.40086876e+00, -4.60286854e+00, -6.77841078e+00,\n",
              "        -8.90524730e+00, -1.09614265e+01, -1.29255198e+01, -1.47768443e+01,\n",
              "        -1.64956804e+01, -1.80634807e+01, -1.94630693e+01, -2.06788282e+01,\n",
              "        -2.16968700e+01, -2.25051940e+01, -2.30938241e+01, -2.34549277e+01,\n",
              "        -2.35829134e+01, -2.34745068e+01, -2.31288030e+01, -2.25472954e+01,\n",
              "        -2.17338807e+01, -2.06948388e+01, -1.94387886e+01, -1.79766196e+01,\n",
              "        -1.63213996e+01, -1.44882595e+01, -1.24942561e+01, -1.03582146e+01,\n",
              "        -8.10055113e+00, -5.74307808e+00, -3.30879375e+00, -8.21658021e-01,\n",
              "         1.69364343e+00,  4.21194409e+00,  6.70784844e+00,  9.15598803e+00,\n",
              "         1.15312792e+01,  1.38091801e+01,  1.59659436e+01,  1.79788649e+01,\n",
              "         1.98265197e+01,  2.14889913e+01,  2.29480843e+01,  2.41875221e+01,\n",
              "         2.51931265e+01,  2.59529775e+01,  2.64575510e+01,  2.66998329e+01,\n",
              "         2.66754096e+01,  2.63825314e+01,  2.58221501e+01,  2.49979293e+01,\n",
              "         2.39162273e+01,  2.25860517e+01,  2.10189881e+01,  1.92291009e+01,\n",
              "         1.72328089e+01,  1.50487360e+01,  1.26975380e+01,  1.02017081e+01,\n",
              "         7.58536207e+00,  4.87400556e+00,  2.09428557e+00, -7.26271386e-01,\n",
              "        -3.55953178e+00, -6.37703575e+00, -9.15028291e+00, -1.18510207e+01,\n",
              "        -1.44515319e+01, -1.69249191e+01, -1.92453826e+01, -2.13884889e+01,\n",
              "        -2.33314272e+01, -2.50532516e+01, -2.65351055e+01, -2.77604265e+01,\n",
              "        -2.87151297e+01, -2.93877664e+01, -2.97696578e+01, -2.98550014e+01,\n",
              "        -2.96409487e+01, -2.91276536e+01, -2.83182906e+01, -2.72190427e+01,\n",
              "        -2.58390590e+01, -2.41903808e+01, -2.22878395e+01, -2.01489244e+01,\n",
              "        -1.77936234e+01, -1.52442367e+01, -1.25251670e+01, -9.66268557e+00,\n",
              "        -6.68467926e+00, -3.62037882e+00, -5.00072086e-01]))"
            ]
          },
          "metadata": {},
          "execution_count": 100
        }
      ],
      "source": [
        "phi = np.arange(0, 10*np.pi, 0.1)\n",
        "a = 1\n",
        "x = a*phi*np.cos(phi)\n",
        "y = a*phi*np.sin(phi)\n",
        "\n",
        "dr = (np.diff(x)**2 + np.diff(y)**2)**.5 # segment lengths\n",
        "r = np.zeros_like(x)\n",
        "r[1:] = np.cumsum(dr)                # integrate path\n",
        "r_int = np.linspace(0, r.max(), 200) # regular spaced path\n",
        "x_int = np.interp(r_int, r, x)       # integrate path\n",
        "y_int = np.interp(r_int, r, y)\n",
        "x,y"
      ]
    },
    {
      "cell_type": "markdown",
      "metadata": {
        "id": "mpM_fF0VilyH"
      },
      "source": [
        "#### 99. Given an integer n and a 2D array X, select from X the rows which can be interpreted as draws from a multinomial distribution with n degrees, i.e., the rows which only contain integers and which sum to n. (★★★) \n",
        "(**hint**: np.logical\\_and.reduce, np.mod)"
      ]
    },
    {
      "cell_type": "code",
      "execution_count": 101,
      "metadata": {
        "id": "h078BrCWilyH",
        "colab": {
          "base_uri": "https://localhost:8080/"
        },
        "outputId": "3d30af08-bcf1-409d-a78f-79b0411b70ad"
      },
      "outputs": [
        {
          "output_type": "stream",
          "name": "stdout",
          "text": [
            "[[2. 0. 1. 1.]]\n"
          ]
        }
      ],
      "source": [
        "X = np.asarray([[1.0, 0.0, 3.0, 8.0],\n",
        "                [2.0, 0.0, 1.0, 1.0],\n",
        "                [1.5, 2.5, 1.0, 0.0]])\n",
        "n = 4\n",
        "M = np.logical_and.reduce(np.mod(X, 1) == 0, axis=-1)\n",
        "M &= (X.sum(axis=-1) == n)\n",
        "print(X[M])"
      ]
    },
    {
      "cell_type": "markdown",
      "metadata": {
        "id": "u36XiP6PilyI"
      },
      "source": [
        "#### 100. Compute bootstrapped 95% confidence intervals for the mean of a 1D array X (i.e., resample the elements of an array with replacement N times, compute the mean of each sample, and then compute percentiles over the means). (★★★) \n",
        "(**hint**: np.percentile)"
      ]
    },
    {
      "cell_type": "code",
      "execution_count": 102,
      "metadata": {
        "id": "zPrCRaf9ilyI",
        "colab": {
          "base_uri": "https://localhost:8080/"
        },
        "outputId": "ae4b6a12-6336-4531-ba78-c0e89525fa6d"
      },
      "outputs": [
        {
          "output_type": "stream",
          "name": "stdout",
          "text": [
            "[-0.07196317  0.26205411]\n"
          ]
        }
      ],
      "source": [
        "X = np.random.randn(100) # random 1D array\n",
        "N = 1000 # number of bootstrap samples\n",
        "idx = np.random.randint(0, X.size, (N, X.size))\n",
        "means = X[idx].mean(axis=1)\n",
        "confint = np.percentile(means, [2.5, 97.5])\n",
        "print(confint)"
      ]
    }
  ],
  "metadata": {
    "kernelspec": {
      "display_name": "Python 3",
      "language": "python",
      "name": "python3"
    },
    "language_info": {
      "codemirror_mode": {
        "name": "ipython",
        "version": 3
      },
      "file_extension": ".py",
      "mimetype": "text/x-python",
      "name": "python",
      "nbconvert_exporter": "python",
      "pygments_lexer": "ipython3",
      "version": "3.8.3"
    },
    "colab": {
      "name": " Numpy_task2.ipynb",
      "provenance": [],
      "collapsed_sections": [],
      "include_colab_link": true
    }
  },
  "nbformat": 4,
  "nbformat_minor": 0
}